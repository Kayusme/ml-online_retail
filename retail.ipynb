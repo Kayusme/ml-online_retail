{
 "cells": [
  {
   "cell_type": "markdown",
   "metadata": {},
   "source": [
    "# Problem 2"
   ]
  },
  {
   "cell_type": "code",
   "execution_count": 1,
   "metadata": {},
   "outputs": [],
   "source": [
    "import pandas as pd\n",
    "import numpy as np\n",
    "import datetime as dt\n",
    "import scipy\n",
    "import random\n",
    "import matplotlib.pyplot as plt\n",
    "\n",
    "# for the recommendation - Implicit Collaborative Filtering\n",
    "import implicit"
   ]
  },
  {
   "cell_type": "code",
   "execution_count": 2,
   "metadata": {},
   "outputs": [
    {
     "data": {
      "text/html": [
       "<div>\n",
       "<style scoped>\n",
       "    .dataframe tbody tr th:only-of-type {\n",
       "        vertical-align: middle;\n",
       "    }\n",
       "\n",
       "    .dataframe tbody tr th {\n",
       "        vertical-align: top;\n",
       "    }\n",
       "\n",
       "    .dataframe thead th {\n",
       "        text-align: right;\n",
       "    }\n",
       "</style>\n",
       "<table border=\"1\" class=\"dataframe\">\n",
       "  <thead>\n",
       "    <tr style=\"text-align: right;\">\n",
       "      <th></th>\n",
       "      <th>InvoiceNo</th>\n",
       "      <th>StockCode</th>\n",
       "      <th>Description</th>\n",
       "      <th>Quantity</th>\n",
       "      <th>InvoiceDate</th>\n",
       "      <th>UnitPrice</th>\n",
       "      <th>CustomerID</th>\n",
       "      <th>Country</th>\n",
       "    </tr>\n",
       "  </thead>\n",
       "  <tbody>\n",
       "    <tr>\n",
       "      <th>0</th>\n",
       "      <td>536365</td>\n",
       "      <td>85123A</td>\n",
       "      <td>WHITE HANGING HEART T-LIGHT HOLDER</td>\n",
       "      <td>6</td>\n",
       "      <td>2010-12-01 08:26:00</td>\n",
       "      <td>2.55</td>\n",
       "      <td>17850.0</td>\n",
       "      <td>United Kingdom</td>\n",
       "    </tr>\n",
       "    <tr>\n",
       "      <th>1</th>\n",
       "      <td>536365</td>\n",
       "      <td>71053</td>\n",
       "      <td>WHITE METAL LANTERN</td>\n",
       "      <td>6</td>\n",
       "      <td>2010-12-01 08:26:00</td>\n",
       "      <td>3.39</td>\n",
       "      <td>17850.0</td>\n",
       "      <td>United Kingdom</td>\n",
       "    </tr>\n",
       "    <tr>\n",
       "      <th>2</th>\n",
       "      <td>536365</td>\n",
       "      <td>84406B</td>\n",
       "      <td>CREAM CUPID HEARTS COAT HANGER</td>\n",
       "      <td>8</td>\n",
       "      <td>2010-12-01 08:26:00</td>\n",
       "      <td>2.75</td>\n",
       "      <td>17850.0</td>\n",
       "      <td>United Kingdom</td>\n",
       "    </tr>\n",
       "    <tr>\n",
       "      <th>3</th>\n",
       "      <td>536365</td>\n",
       "      <td>84029G</td>\n",
       "      <td>KNITTED UNION FLAG HOT WATER BOTTLE</td>\n",
       "      <td>6</td>\n",
       "      <td>2010-12-01 08:26:00</td>\n",
       "      <td>3.39</td>\n",
       "      <td>17850.0</td>\n",
       "      <td>United Kingdom</td>\n",
       "    </tr>\n",
       "    <tr>\n",
       "      <th>4</th>\n",
       "      <td>536365</td>\n",
       "      <td>84029E</td>\n",
       "      <td>RED WOOLLY HOTTIE WHITE HEART.</td>\n",
       "      <td>6</td>\n",
       "      <td>2010-12-01 08:26:00</td>\n",
       "      <td>3.39</td>\n",
       "      <td>17850.0</td>\n",
       "      <td>United Kingdom</td>\n",
       "    </tr>\n",
       "  </tbody>\n",
       "</table>\n",
       "</div>"
      ],
      "text/plain": [
       "  InvoiceNo StockCode                          Description  Quantity  \\\n",
       "0    536365    85123A   WHITE HANGING HEART T-LIGHT HOLDER         6   \n",
       "1    536365     71053                  WHITE METAL LANTERN         6   \n",
       "2    536365    84406B       CREAM CUPID HEARTS COAT HANGER         8   \n",
       "3    536365    84029G  KNITTED UNION FLAG HOT WATER BOTTLE         6   \n",
       "4    536365    84029E       RED WOOLLY HOTTIE WHITE HEART.         6   \n",
       "\n",
       "          InvoiceDate  UnitPrice  CustomerID         Country  \n",
       "0 2010-12-01 08:26:00       2.55     17850.0  United Kingdom  \n",
       "1 2010-12-01 08:26:00       3.39     17850.0  United Kingdom  \n",
       "2 2010-12-01 08:26:00       2.75     17850.0  United Kingdom  \n",
       "3 2010-12-01 08:26:00       3.39     17850.0  United Kingdom  \n",
       "4 2010-12-01 08:26:00       3.39     17850.0  United Kingdom  "
      ]
     },
     "execution_count": 2,
     "metadata": {},
     "output_type": "execute_result"
    }
   ],
   "source": [
    "# load the dataset\n",
    "data = pd.read_excel('Online Retail.xlsx')\n",
    "\n",
    "# look at top 5 rows\n",
    "data.head()"
   ]
  },
  {
   "cell_type": "code",
   "execution_count": 3,
   "metadata": {},
   "outputs": [
    {
     "name": "stdout",
     "output_type": "stream",
     "text": [
      "<class 'pandas.core.frame.DataFrame'>\n",
      "RangeIndex: 541909 entries, 0 to 541908\n",
      "Data columns (total 8 columns):\n",
      "InvoiceNo      541909 non-null object\n",
      "StockCode      541909 non-null object\n",
      "Description    540455 non-null object\n",
      "Quantity       541909 non-null int64\n",
      "InvoiceDate    541909 non-null datetime64[ns]\n",
      "UnitPrice      541909 non-null float64\n",
      "CustomerID     406829 non-null float64\n",
      "Country        541909 non-null object\n",
      "dtypes: datetime64[ns](1), float64(2), int64(1), object(4)\n",
      "memory usage: 33.1+ MB\n"
     ]
    }
   ],
   "source": [
    "data.info()"
   ]
  },
  {
   "cell_type": "code",
   "execution_count": 4,
   "metadata": {},
   "outputs": [
    {
     "data": {
      "text/plain": [
       "InvoiceNo           0\n",
       "StockCode           0\n",
       "Description      1454\n",
       "Quantity            0\n",
       "InvoiceDate         0\n",
       "UnitPrice           0\n",
       "CustomerID     135080\n",
       "Country             0\n",
       "dtype: int64"
      ]
     },
     "execution_count": 4,
     "metadata": {},
     "output_type": "execute_result"
    }
   ],
   "source": [
    "data.isnull().sum()"
   ]
  },
  {
   "cell_type": "markdown",
   "metadata": {},
   "source": [
    "## Preprocessing"
   ]
  },
  {
   "cell_type": "code",
   "execution_count": 5,
   "metadata": {},
   "outputs": [],
   "source": [
    "# Remove the duplicate rows\n",
    "data = data[~data.duplicated()]"
   ]
  },
  {
   "cell_type": "markdown",
   "metadata": {},
   "source": [
    "#### Handleing with canceled orders\n",
    "\n",
    "Split into two tables, puchased and canceled"
   ]
  },
  {
   "cell_type": "code",
   "execution_count": 6,
   "metadata": {},
   "outputs": [
    {
     "name": "stdout",
     "output_type": "stream",
     "text": [
      "9251\n"
     ]
    },
    {
     "data": {
      "text/html": [
       "<div>\n",
       "<style scoped>\n",
       "    .dataframe tbody tr th:only-of-type {\n",
       "        vertical-align: middle;\n",
       "    }\n",
       "\n",
       "    .dataframe tbody tr th {\n",
       "        vertical-align: top;\n",
       "    }\n",
       "\n",
       "    .dataframe thead th {\n",
       "        text-align: right;\n",
       "    }\n",
       "</style>\n",
       "<table border=\"1\" class=\"dataframe\">\n",
       "  <thead>\n",
       "    <tr style=\"text-align: right;\">\n",
       "      <th></th>\n",
       "      <th>InvoiceNo</th>\n",
       "      <th>StockCode</th>\n",
       "      <th>Description</th>\n",
       "      <th>Quantity</th>\n",
       "      <th>InvoiceDate</th>\n",
       "      <th>UnitPrice</th>\n",
       "      <th>CustomerID</th>\n",
       "      <th>Country</th>\n",
       "    </tr>\n",
       "  </thead>\n",
       "  <tbody>\n",
       "    <tr>\n",
       "      <th>141</th>\n",
       "      <td>C536379</td>\n",
       "      <td>D</td>\n",
       "      <td>Discount</td>\n",
       "      <td>-1</td>\n",
       "      <td>2010-12-01 09:41:00</td>\n",
       "      <td>27.50</td>\n",
       "      <td>14527.0</td>\n",
       "      <td>United Kingdom</td>\n",
       "    </tr>\n",
       "    <tr>\n",
       "      <th>154</th>\n",
       "      <td>C536383</td>\n",
       "      <td>35004C</td>\n",
       "      <td>SET OF 3 COLOURED  FLYING DUCKS</td>\n",
       "      <td>-1</td>\n",
       "      <td>2010-12-01 09:49:00</td>\n",
       "      <td>4.65</td>\n",
       "      <td>15311.0</td>\n",
       "      <td>United Kingdom</td>\n",
       "    </tr>\n",
       "    <tr>\n",
       "      <th>235</th>\n",
       "      <td>C536391</td>\n",
       "      <td>22556</td>\n",
       "      <td>PLASTERS IN TIN CIRCUS PARADE</td>\n",
       "      <td>-12</td>\n",
       "      <td>2010-12-01 10:24:00</td>\n",
       "      <td>1.65</td>\n",
       "      <td>17548.0</td>\n",
       "      <td>United Kingdom</td>\n",
       "    </tr>\n",
       "    <tr>\n",
       "      <th>236</th>\n",
       "      <td>C536391</td>\n",
       "      <td>21984</td>\n",
       "      <td>PACK OF 12 PINK PAISLEY TISSUES</td>\n",
       "      <td>-24</td>\n",
       "      <td>2010-12-01 10:24:00</td>\n",
       "      <td>0.29</td>\n",
       "      <td>17548.0</td>\n",
       "      <td>United Kingdom</td>\n",
       "    </tr>\n",
       "    <tr>\n",
       "      <th>237</th>\n",
       "      <td>C536391</td>\n",
       "      <td>21983</td>\n",
       "      <td>PACK OF 12 BLUE PAISLEY TISSUES</td>\n",
       "      <td>-24</td>\n",
       "      <td>2010-12-01 10:24:00</td>\n",
       "      <td>0.29</td>\n",
       "      <td>17548.0</td>\n",
       "      <td>United Kingdom</td>\n",
       "    </tr>\n",
       "  </tbody>\n",
       "</table>\n",
       "</div>"
      ],
      "text/plain": [
       "    InvoiceNo StockCode                       Description  Quantity  \\\n",
       "141   C536379         D                          Discount        -1   \n",
       "154   C536383    35004C   SET OF 3 COLOURED  FLYING DUCKS        -1   \n",
       "235   C536391     22556    PLASTERS IN TIN CIRCUS PARADE        -12   \n",
       "236   C536391     21984  PACK OF 12 PINK PAISLEY TISSUES        -24   \n",
       "237   C536391     21983  PACK OF 12 BLUE PAISLEY TISSUES        -24   \n",
       "\n",
       "            InvoiceDate  UnitPrice  CustomerID         Country  \n",
       "141 2010-12-01 09:41:00      27.50     14527.0  United Kingdom  \n",
       "154 2010-12-01 09:49:00       4.65     15311.0  United Kingdom  \n",
       "235 2010-12-01 10:24:00       1.65     17548.0  United Kingdom  \n",
       "236 2010-12-01 10:24:00       0.29     17548.0  United Kingdom  \n",
       "237 2010-12-01 10:24:00       0.29     17548.0  United Kingdom  "
      ]
     },
     "execution_count": 6,
     "metadata": {},
     "output_type": "execute_result"
    }
   ],
   "source": [
    "canceled = data[data['InvoiceNo'].str.startswith('C') == True]\n",
    "print(len(canceled))\n",
    "canceled.head()"
   ]
  },
  {
   "cell_type": "code",
   "execution_count": 7,
   "metadata": {},
   "outputs": [
    {
     "name": "stdout",
     "output_type": "stream",
     "text": [
      "527390\n"
     ]
    },
    {
     "data": {
      "text/html": [
       "<div>\n",
       "<style scoped>\n",
       "    .dataframe tbody tr th:only-of-type {\n",
       "        vertical-align: middle;\n",
       "    }\n",
       "\n",
       "    .dataframe tbody tr th {\n",
       "        vertical-align: top;\n",
       "    }\n",
       "\n",
       "    .dataframe thead th {\n",
       "        text-align: right;\n",
       "    }\n",
       "</style>\n",
       "<table border=\"1\" class=\"dataframe\">\n",
       "  <thead>\n",
       "    <tr style=\"text-align: right;\">\n",
       "      <th></th>\n",
       "      <th>InvoiceNo</th>\n",
       "      <th>StockCode</th>\n",
       "      <th>Description</th>\n",
       "      <th>Quantity</th>\n",
       "      <th>InvoiceDate</th>\n",
       "      <th>UnitPrice</th>\n",
       "      <th>CustomerID</th>\n",
       "      <th>Country</th>\n",
       "    </tr>\n",
       "  </thead>\n",
       "  <tbody>\n",
       "    <tr>\n",
       "      <th>0</th>\n",
       "      <td>536365</td>\n",
       "      <td>85123A</td>\n",
       "      <td>WHITE HANGING HEART T-LIGHT HOLDER</td>\n",
       "      <td>6</td>\n",
       "      <td>2010-12-01 08:26:00</td>\n",
       "      <td>2.55</td>\n",
       "      <td>17850.0</td>\n",
       "      <td>United Kingdom</td>\n",
       "    </tr>\n",
       "    <tr>\n",
       "      <th>1</th>\n",
       "      <td>536365</td>\n",
       "      <td>71053</td>\n",
       "      <td>WHITE METAL LANTERN</td>\n",
       "      <td>6</td>\n",
       "      <td>2010-12-01 08:26:00</td>\n",
       "      <td>3.39</td>\n",
       "      <td>17850.0</td>\n",
       "      <td>United Kingdom</td>\n",
       "    </tr>\n",
       "    <tr>\n",
       "      <th>2</th>\n",
       "      <td>536365</td>\n",
       "      <td>84406B</td>\n",
       "      <td>CREAM CUPID HEARTS COAT HANGER</td>\n",
       "      <td>8</td>\n",
       "      <td>2010-12-01 08:26:00</td>\n",
       "      <td>2.75</td>\n",
       "      <td>17850.0</td>\n",
       "      <td>United Kingdom</td>\n",
       "    </tr>\n",
       "    <tr>\n",
       "      <th>3</th>\n",
       "      <td>536365</td>\n",
       "      <td>84029G</td>\n",
       "      <td>KNITTED UNION FLAG HOT WATER BOTTLE</td>\n",
       "      <td>6</td>\n",
       "      <td>2010-12-01 08:26:00</td>\n",
       "      <td>3.39</td>\n",
       "      <td>17850.0</td>\n",
       "      <td>United Kingdom</td>\n",
       "    </tr>\n",
       "    <tr>\n",
       "      <th>4</th>\n",
       "      <td>536365</td>\n",
       "      <td>84029E</td>\n",
       "      <td>RED WOOLLY HOTTIE WHITE HEART.</td>\n",
       "      <td>6</td>\n",
       "      <td>2010-12-01 08:26:00</td>\n",
       "      <td>3.39</td>\n",
       "      <td>17850.0</td>\n",
       "      <td>United Kingdom</td>\n",
       "    </tr>\n",
       "  </tbody>\n",
       "</table>\n",
       "</div>"
      ],
      "text/plain": [
       "  InvoiceNo StockCode                          Description  Quantity  \\\n",
       "0    536365    85123A   WHITE HANGING HEART T-LIGHT HOLDER         6   \n",
       "1    536365     71053                  WHITE METAL LANTERN         6   \n",
       "2    536365    84406B       CREAM CUPID HEARTS COAT HANGER         8   \n",
       "3    536365    84029G  KNITTED UNION FLAG HOT WATER BOTTLE         6   \n",
       "4    536365    84029E       RED WOOLLY HOTTIE WHITE HEART.         6   \n",
       "\n",
       "          InvoiceDate  UnitPrice  CustomerID         Country  \n",
       "0 2010-12-01 08:26:00       2.55     17850.0  United Kingdom  \n",
       "1 2010-12-01 08:26:00       3.39     17850.0  United Kingdom  \n",
       "2 2010-12-01 08:26:00       2.75     17850.0  United Kingdom  \n",
       "3 2010-12-01 08:26:00       3.39     17850.0  United Kingdom  \n",
       "4 2010-12-01 08:26:00       3.39     17850.0  United Kingdom  "
      ]
     },
     "execution_count": 7,
     "metadata": {},
     "output_type": "execute_result"
    }
   ],
   "source": [
    "purchased = data[data['InvoiceNo'].str.startswith('C') != True]\n",
    "print(len(purchased))\n",
    "purchased.head()"
   ]
  },
  {
   "cell_type": "code",
   "execution_count": 8,
   "metadata": {},
   "outputs": [],
   "source": [
    "# We corrected the quantity with cancelling order (['InvoiceNo'].str.startswith('C'))\n",
    "# The returned items must have the same CustomerID, same StockCode, and same UnitPrice\n",
    "# We only combine the quantity information for the canceled orders and omit other information.\n",
    "corrected_qty = pd.merge(purchased, canceled, on=['CustomerID','StockCode','UnitPrice'], how='left')\n",
    "corrected_qty['Quantity_y'] = corrected_qty['Quantity_y'].fillna(0)\n",
    "corrected_qty['Quantity'] = corrected_qty['Quantity_x'] + corrected_qty['Quantity_y']\n",
    "corrected_qty['Quantity'] = corrected_qty['Quantity'].astype(int)"
   ]
  },
  {
   "cell_type": "code",
   "execution_count": 9,
   "metadata": {},
   "outputs": [
    {
     "data": {
      "text/html": [
       "<div>\n",
       "<style scoped>\n",
       "    .dataframe tbody tr th:only-of-type {\n",
       "        vertical-align: middle;\n",
       "    }\n",
       "\n",
       "    .dataframe tbody tr th {\n",
       "        vertical-align: top;\n",
       "    }\n",
       "\n",
       "    .dataframe thead th {\n",
       "        text-align: right;\n",
       "    }\n",
       "</style>\n",
       "<table border=\"1\" class=\"dataframe\">\n",
       "  <thead>\n",
       "    <tr style=\"text-align: right;\">\n",
       "      <th></th>\n",
       "      <th>InvoiceNo</th>\n",
       "      <th>StockCode</th>\n",
       "      <th>Description</th>\n",
       "      <th>Quantity</th>\n",
       "      <th>InvoiceDate</th>\n",
       "      <th>UnitPrice</th>\n",
       "      <th>CustomerID</th>\n",
       "      <th>Country</th>\n",
       "    </tr>\n",
       "  </thead>\n",
       "  <tbody>\n",
       "    <tr>\n",
       "      <th>0</th>\n",
       "      <td>536365</td>\n",
       "      <td>85123A</td>\n",
       "      <td>WHITE HANGING HEART T-LIGHT HOLDER</td>\n",
       "      <td>6</td>\n",
       "      <td>2010-12-01 08:26:00</td>\n",
       "      <td>2.55</td>\n",
       "      <td>17850.0</td>\n",
       "      <td>United Kingdom</td>\n",
       "    </tr>\n",
       "    <tr>\n",
       "      <th>1</th>\n",
       "      <td>536365</td>\n",
       "      <td>71053</td>\n",
       "      <td>WHITE METAL LANTERN</td>\n",
       "      <td>6</td>\n",
       "      <td>2010-12-01 08:26:00</td>\n",
       "      <td>3.39</td>\n",
       "      <td>17850.0</td>\n",
       "      <td>United Kingdom</td>\n",
       "    </tr>\n",
       "    <tr>\n",
       "      <th>2</th>\n",
       "      <td>536365</td>\n",
       "      <td>84406B</td>\n",
       "      <td>CREAM CUPID HEARTS COAT HANGER</td>\n",
       "      <td>8</td>\n",
       "      <td>2010-12-01 08:26:00</td>\n",
       "      <td>2.75</td>\n",
       "      <td>17850.0</td>\n",
       "      <td>United Kingdom</td>\n",
       "    </tr>\n",
       "    <tr>\n",
       "      <th>3</th>\n",
       "      <td>536365</td>\n",
       "      <td>84029G</td>\n",
       "      <td>KNITTED UNION FLAG HOT WATER BOTTLE</td>\n",
       "      <td>6</td>\n",
       "      <td>2010-12-01 08:26:00</td>\n",
       "      <td>3.39</td>\n",
       "      <td>17850.0</td>\n",
       "      <td>United Kingdom</td>\n",
       "    </tr>\n",
       "    <tr>\n",
       "      <th>4</th>\n",
       "      <td>536365</td>\n",
       "      <td>84029E</td>\n",
       "      <td>RED WOOLLY HOTTIE WHITE HEART.</td>\n",
       "      <td>6</td>\n",
       "      <td>2010-12-01 08:26:00</td>\n",
       "      <td>3.39</td>\n",
       "      <td>17850.0</td>\n",
       "      <td>United Kingdom</td>\n",
       "    </tr>\n",
       "  </tbody>\n",
       "</table>\n",
       "</div>"
      ],
      "text/plain": [
       "  InvoiceNo StockCode                          Description  Quantity  \\\n",
       "0    536365    85123A   WHITE HANGING HEART T-LIGHT HOLDER         6   \n",
       "1    536365     71053                  WHITE METAL LANTERN         6   \n",
       "2    536365    84406B       CREAM CUPID HEARTS COAT HANGER         8   \n",
       "3    536365    84029G  KNITTED UNION FLAG HOT WATER BOTTLE         6   \n",
       "4    536365    84029E       RED WOOLLY HOTTIE WHITE HEART.         6   \n",
       "\n",
       "          InvoiceDate  UnitPrice  CustomerID         Country  \n",
       "0 2010-12-01 08:26:00       2.55     17850.0  United Kingdom  \n",
       "1 2010-12-01 08:26:00       3.39     17850.0  United Kingdom  \n",
       "2 2010-12-01 08:26:00       2.75     17850.0  United Kingdom  \n",
       "3 2010-12-01 08:26:00       3.39     17850.0  United Kingdom  \n",
       "4 2010-12-01 08:26:00       3.39     17850.0  United Kingdom  "
      ]
     },
     "execution_count": 9,
     "metadata": {},
     "output_type": "execute_result"
    }
   ],
   "source": [
    "# Reconstuct the df and rename df\n",
    "df = corrected_qty[['InvoiceNo_x', 'StockCode', 'Description_x', 'Quantity', 'InvoiceDate_x', 'UnitPrice', 'CustomerID', 'Country_x']].copy()\n",
    "new_names = {'InvoiceNo_x':'InvoiceNo', 'Description_x':'Description', 'InvoiceDate_x': 'InvoiceDate','Country_x':'Country'}\n",
    "df.rename(columns = new_names, inplace= True)\n",
    "df.head()"
   ]
  },
  {
   "cell_type": "code",
   "execution_count": 10,
   "metadata": {},
   "outputs": [
    {
     "data": {
      "text/plain": [
       "count    531702.000000\n",
       "mean          9.708376\n",
       "std          51.935427\n",
       "min       -9600.000000\n",
       "25%           1.000000\n",
       "50%           3.000000\n",
       "75%          10.000000\n",
       "max       12540.000000\n",
       "Name: Quantity, dtype: float64"
      ]
     },
     "execution_count": 10,
     "metadata": {},
     "output_type": "execute_result"
    }
   ],
   "source": [
    "# Check the distribution of quantity\n",
    "df.Quantity.describe()"
   ]
  },
  {
   "cell_type": "code",
   "execution_count": 11,
   "metadata": {},
   "outputs": [
    {
     "data": {
      "text/plain": [
       "count    531702.000000\n",
       "mean          3.905680\n",
       "std          45.935139\n",
       "min      -11062.060000\n",
       "25%           1.250000\n",
       "50%           2.080000\n",
       "75%           4.130000\n",
       "max       13541.330000\n",
       "Name: UnitPrice, dtype: float64"
      ]
     },
     "execution_count": 11,
     "metadata": {},
     "output_type": "execute_result"
    }
   ],
   "source": [
    "# Check the distribution of unit price\n",
    "df.UnitPrice.describe()"
   ]
  },
  {
   "cell_type": "code",
   "execution_count": 12,
   "metadata": {},
   "outputs": [],
   "source": [
    "# Keep only those transactions which Quantity > 0\n",
    "df = df[df['Quantity'] > 0]\n",
    "# Unit price > 0\n",
    "df = df[df['UnitPrice'] > 0]"
   ]
  },
  {
   "cell_type": "code",
   "execution_count": 13,
   "metadata": {},
   "outputs": [],
   "source": [
    "# postage is irrelevent of purchasing\n",
    "df = df[(df['StockCode'] != \"DOT\")]\n",
    "df = df[(df['StockCode'] != \"POST\")]\n",
    "df = df[df['StockCode'] != \"C2\"]\n",
    "\n",
    "# Fees, manual, adjusted debts, bank charges, carriage, and gift voucher are irrelevent \n",
    "df = df[df['StockCode'] != \"AMAZONFEE\"]\n",
    "df = df[df['StockCode'] != \"M\"]\n",
    "df = df[df['StockCode'] != \"m\"]\n",
    "df = df[df['StockCode'] != \"B\"]\n",
    "df = df[df['StockCode'] != \"BANK CHARGES\"]\n",
    "df = df[df['Description'].str.contains(\"Carriage\") != True]\n",
    "df = df[df['Description'].str.contains(\"Gift Voucher\") != True]"
   ]
  },
  {
   "cell_type": "code",
   "execution_count": 14,
   "metadata": {},
   "outputs": [],
   "source": [
    "# Regex of Description\n",
    "df['Description'] = df['Description'].str.replace(r'[\\!\\%\\[\\]\\,\\。\\*\\.]','')\n",
    "df['Description'] = df['Description'].str.replace('  ', ' ') # double space to single space\n",
    "df['Description'] = df['Description'].str.upper() # upper case\n",
    "df['Description'] = df['Description'].str.strip() # remove spaces at the end/beginning of the strings"
   ]
  },
  {
   "cell_type": "code",
   "execution_count": 15,
   "metadata": {},
   "outputs": [],
   "source": [
    "# Assume when CustomerID = NA, it means the buyers buy things without registration.  \n",
    "# The total NA in CustomerID is around 25%. \n",
    "# We want to avoid neglecting 25% of data, especially they have other useful information in other columns.\n",
    "# We assume they are not related to any existing customers and they are all different.\n",
    "# So, we assign them simply with 'InvoiceNo' because 'InvoiceNo' has different digits (6) from 'CustomerID' (5)\n",
    "# Since the original 'CustomerID' is stored in floating point, we convert it into int for convenience\n",
    "# The data is prepared for the recommendations \n",
    "\n",
    "df_keep_no_CustomerID = df.copy()\n",
    "df_keep_no_CustomerID['CustomerID'].fillna(df_keep_no_CustomerID['InvoiceNo'], inplace=True)\n",
    "df_keep_no_CustomerID['CustomerID'] = df_keep_no_CustomerID['CustomerID'].astype(int)"
   ]
  },
  {
   "cell_type": "code",
   "execution_count": 16,
   "metadata": {},
   "outputs": [],
   "source": [
    "# For RFM analysis, we don't care about people who don't register because we only care about the \"members\".\n",
    "df.dropna(subset=['CustomerID'], inplace=True)\n",
    "df['CustomerID'] = df['CustomerID'].astype(int)"
   ]
  },
  {
   "cell_type": "markdown",
   "metadata": {},
   "source": [
    "## Little Findings"
   ]
  },
  {
   "cell_type": "code",
   "execution_count": 17,
   "metadata": {},
   "outputs": [
    {
     "data": {
      "text/plain": [
       "18166"
      ]
     },
     "execution_count": 17,
     "metadata": {},
     "output_type": "execute_result"
    }
   ],
   "source": [
    "# Check the number of unique transactions\n",
    "df.InvoiceNo.nunique()"
   ]
  },
  {
   "cell_type": "code",
   "execution_count": 18,
   "metadata": {},
   "outputs": [
    {
     "data": {
      "text/plain": [
       "3644"
      ]
     },
     "execution_count": 18,
     "metadata": {},
     "output_type": "execute_result"
    }
   ],
   "source": [
    "# Check the unique stock ids\n",
    "df.StockCode.nunique()"
   ]
  },
  {
   "cell_type": "code",
   "execution_count": 19,
   "metadata": {},
   "outputs": [
    {
     "data": {
      "text/plain": [
       "22423     2012\n",
       "85123A    2000\n",
       "85099B    1632\n",
       "84879     1387\n",
       "47566     1359\n",
       "20725     1302\n",
       "22720     1183\n",
       "22197     1175\n",
       "23203     1076\n",
       "20727     1066\n",
       "Name: StockCode, dtype: int64"
      ]
     },
     "execution_count": 19,
     "metadata": {},
     "output_type": "execute_result"
    }
   ],
   "source": [
    "# top 10 stock ids that sold the most\n",
    "df.StockCode.value_counts().head(10)"
   ]
  },
  {
   "cell_type": "code",
   "execution_count": 20,
   "metadata": {},
   "outputs": [
    {
     "data": {
      "text/plain": [
       "United Kingdom          0.891794\n",
       "Germany                 0.022723\n",
       "France                  0.020334\n",
       "EIRE                    0.018163\n",
       "Spain                   0.006149\n",
       "Netherlands             0.005946\n",
       "Belgium                 0.004959\n",
       "Switzerland             0.004640\n",
       "Portugal                0.003626\n",
       "Australia               0.002847\n",
       "Norway                  0.002654\n",
       "Italy                   0.001978\n",
       "Channel Islands         0.001911\n",
       "Finland                 0.001664\n",
       "Cyprus                  0.001538\n",
       "Sweden                  0.001088\n",
       "Austria                 0.000988\n",
       "Denmark                 0.000936\n",
       "Japan                   0.000854\n",
       "Poland                  0.000828\n",
       "Israel                  0.000630\n",
       "Unspecified             0.000620\n",
       "Singapore               0.000553\n",
       "Iceland                 0.000468\n",
       "Canada                  0.000386\n",
       "Greece                  0.000365\n",
       "Malta                   0.000303\n",
       "United Arab Emirates    0.000172\n",
       "USA                     0.000172\n",
       "European Community      0.000147\n",
       "RSA                     0.000147\n",
       "Lebanon                 0.000116\n",
       "Lithuania               0.000090\n",
       "Brazil                  0.000082\n",
       "Czech Republic          0.000062\n",
       "Bahrain                 0.000044\n",
       "Saudi Arabia            0.000023\n",
       "Name: Country, dtype: float64"
      ]
     },
     "execution_count": 20,
     "metadata": {},
     "output_type": "execute_result"
    }
   ],
   "source": [
    "# Check the region\n",
    "df.Country.value_counts(normalize=True)"
   ]
  },
  {
   "cell_type": "markdown",
   "metadata": {},
   "source": [
    "##### Findings: More than 90% of the data are from the UK because the retailer is based in the UK."
   ]
  },
  {
   "cell_type": "markdown",
   "metadata": {},
   "source": [
    "# (1) Customer Segmentation"
   ]
  },
  {
   "cell_type": "markdown",
   "metadata": {},
   "source": [
    "## Create RFM Table"
   ]
  },
  {
   "cell_type": "code",
   "execution_count": 21,
   "metadata": {},
   "outputs": [
    {
     "name": "stdout",
     "output_type": "stream",
     "text": [
      "2010-12-01 2011-12-09\n"
     ]
    }
   ],
   "source": [
    "# Convert InvoiceDate to Date\n",
    "df['InvoiceDate'] = df['InvoiceDate'].dt.date\n",
    "print(min(df['InvoiceDate']), max(df['InvoiceDate'])) # date range of data"
   ]
  },
  {
   "cell_type": "markdown",
   "metadata": {},
   "source": [
    "Use 2011-12-10 as snapshot date!"
   ]
  },
  {
   "cell_type": "markdown",
   "metadata": {},
   "source": [
    "- For Recency: Calculate the number of days between snapshot date and date of last purchase for each customer.\n",
    "- For Frequency: Calculate the number of orders made for each customer.\n",
    "- For Monetary: Calculate the total purchase amount for each customer."
   ]
  },
  {
   "cell_type": "code",
   "execution_count": 22,
   "metadata": {},
   "outputs": [],
   "source": [
    "# Create a new column to calculate the difference between the record and the sanpshot date\n",
    "df['DateDifference'] =  dt.date(2011, 12, 10) - df['InvoiceDate']\n",
    "df['DateDifference'] = df['DateDifference'].dt.days"
   ]
  },
  {
   "cell_type": "code",
   "execution_count": 23,
   "metadata": {},
   "outputs": [],
   "source": [
    "# Create a new column to calculate the price (Quantity * UnitPrice) of each row\n",
    "df['Price'] = df['Quantity'] * df['UnitPrice']"
   ]
  },
  {
   "cell_type": "code",
   "execution_count": 24,
   "metadata": {},
   "outputs": [],
   "source": [
    "# Create RFM talbe\n",
    "rfm = df.groupby('CustomerID').agg({'DateDifference': np.min,\n",
    "                                   'InvoiceNo': pd.Series.nunique,\n",
    "                                   'Price': np.sum})"
   ]
  },
  {
   "cell_type": "code",
   "execution_count": 25,
   "metadata": {},
   "outputs": [],
   "source": [
    "# Update the column name\n",
    "rfm.columns=['Recency', 'Frequency', 'Monetary']"
   ]
  },
  {
   "cell_type": "code",
   "execution_count": 26,
   "metadata": {},
   "outputs": [],
   "source": [
    "# For most use cases, people usually look at one year data\n",
    "rfm = rfm[rfm['Recency'] <= 365]"
   ]
  },
  {
   "cell_type": "code",
   "execution_count": 27,
   "metadata": {},
   "outputs": [
    {
     "name": "stdout",
     "output_type": "stream",
     "text": [
      "<class 'pandas.core.frame.DataFrame'>\n",
      "Int64Index: 4248 entries, 12347 to 18287\n",
      "Data columns (total 3 columns):\n",
      "Recency      4248 non-null int64\n",
      "Frequency    4248 non-null int64\n",
      "Monetary     4248 non-null float64\n",
      "dtypes: float64(1), int64(2)\n",
      "memory usage: 132.8 KB\n"
     ]
    }
   ],
   "source": [
    "rfm.info()"
   ]
  },
  {
   "cell_type": "markdown",
   "metadata": {},
   "source": [
    "## We'll do 5x5x5 RFM analysis"
   ]
  },
  {
   "cell_type": "code",
   "execution_count": 28,
   "metadata": {},
   "outputs": [
    {
     "data": {
      "text/plain": [
       "{'Recency': {0.2: 13.0, 0.4: 32.0, 0.6: 71.0, 0.8: 172.60000000000036},\n",
       " 'Frequency': {0.2: 1.0, 0.4: 2.0, 0.6: 3.0, 0.8: 6.0},\n",
       " 'Monetary': {0.2: 251.94600000000003,\n",
       "  0.4: 487.8940000000001,\n",
       "  0.6: 922.174,\n",
       "  0.8: 2028.7000000000019}}"
      ]
     },
     "execution_count": 28,
     "metadata": {},
     "output_type": "execute_result"
    }
   ],
   "source": [
    "# Get the sense of the distribution\n",
    "rfm.quantile([.2, .4, .6, .8]).to_dict()"
   ]
  },
  {
   "cell_type": "markdown",
   "metadata": {},
   "source": [
    "#### For the convenience of marketers, we can choose the grouping method as follows:\n",
    "\n",
    "- Recency:\n",
    "\n",
    "|  Days  | R-score |\n",
    "|:------:|:-------:|\n",
    "| 0-14   |    5    |\n",
    "| 15-30  |    4    |\n",
    "| 31-60  |    3    |\n",
    "| 60-180 |    2    |\n",
    "| > 180  |    1    |\n",
    "\n",
    "- Frequency\n",
    "\n",
    "|Frequency| F-score |\n",
    "|:-------:|:-------:|\n",
    "|  > 6    |    5    |\n",
    "|  5 - 6  |    4    |\n",
    "|  3 - 4  |    3    |\n",
    "|    2    |    2    |\n",
    "|    1    |    1    |\n",
    "\n",
    "\n",
    "- Monetary\n",
    "\n",
    "| Monetary   | M-score |\n",
    "|:----------:|:-------:|\n",
    "|   >2000    |    5    |\n",
    "| (1000-2000]|    4    |\n",
    "| (500-1000] |    3    |\n",
    "| (250-500]  |    2    |\n",
    "| (0, 250]   |    1    |"
   ]
  },
  {
   "cell_type": "code",
   "execution_count": 29,
   "metadata": {},
   "outputs": [],
   "source": [
    "def r_score(x):\n",
    "    if x <= 14:\n",
    "        return 5\n",
    "    elif x <= 30:\n",
    "        return 4\n",
    "    elif x <= 60:\n",
    "        return 3\n",
    "    elif x <= 180:\n",
    "        return 2\n",
    "    else:\n",
    "        return 1\n",
    "\n",
    "def f_score(x):\n",
    "    if x <= 1:\n",
    "        return 1\n",
    "    elif x <= 2:\n",
    "        return 2\n",
    "    elif x <= 4:\n",
    "        return 3\n",
    "    elif x <= 6:\n",
    "        return 4\n",
    "    else:\n",
    "        return 5\n",
    "\n",
    "def m_score(x):\n",
    "    if x <= 250:\n",
    "        return 1\n",
    "    elif x <= 500:\n",
    "        return 2\n",
    "    elif x <= 1000:\n",
    "        return 3\n",
    "    elif x <= 2000:\n",
    "        return 4\n",
    "    else:\n",
    "        return 5   "
   ]
  },
  {
   "cell_type": "code",
   "execution_count": 30,
   "metadata": {},
   "outputs": [],
   "source": [
    "rfm['R_score'] = rfm['Recency'].apply(r_score)\n",
    "rfm['F_score'] = rfm['Frequency'].apply(f_score)\n",
    "rfm['M_score'] = rfm['Monetary'].apply(m_score)\n",
    "rfm['RFM_score'] = rfm['R_score'] * 100 + rfm['F_score'] * 10 + rfm['M_score']"
   ]
  },
  {
   "cell_type": "code",
   "execution_count": 31,
   "metadata": {},
   "outputs": [
    {
     "data": {
      "text/html": [
       "<div>\n",
       "<style scoped>\n",
       "    .dataframe tbody tr th:only-of-type {\n",
       "        vertical-align: middle;\n",
       "    }\n",
       "\n",
       "    .dataframe tbody tr th {\n",
       "        vertical-align: top;\n",
       "    }\n",
       "\n",
       "    .dataframe thead th {\n",
       "        text-align: right;\n",
       "    }\n",
       "</style>\n",
       "<table border=\"1\" class=\"dataframe\">\n",
       "  <thead>\n",
       "    <tr style=\"text-align: right;\">\n",
       "      <th></th>\n",
       "      <th>Recency</th>\n",
       "      <th>Frequency</th>\n",
       "      <th>Monetary</th>\n",
       "      <th>R_score</th>\n",
       "      <th>F_score</th>\n",
       "      <th>M_score</th>\n",
       "      <th>RFM_score</th>\n",
       "    </tr>\n",
       "    <tr>\n",
       "      <th>CustomerID</th>\n",
       "      <th></th>\n",
       "      <th></th>\n",
       "      <th></th>\n",
       "      <th></th>\n",
       "      <th></th>\n",
       "      <th></th>\n",
       "      <th></th>\n",
       "    </tr>\n",
       "  </thead>\n",
       "  <tbody>\n",
       "    <tr>\n",
       "      <th>12347</th>\n",
       "      <td>3</td>\n",
       "      <td>7</td>\n",
       "      <td>4310.00</td>\n",
       "      <td>5</td>\n",
       "      <td>5</td>\n",
       "      <td>5</td>\n",
       "      <td>555</td>\n",
       "    </tr>\n",
       "    <tr>\n",
       "      <th>12348</th>\n",
       "      <td>76</td>\n",
       "      <td>4</td>\n",
       "      <td>1437.24</td>\n",
       "      <td>2</td>\n",
       "      <td>3</td>\n",
       "      <td>4</td>\n",
       "      <td>234</td>\n",
       "    </tr>\n",
       "    <tr>\n",
       "      <th>12349</th>\n",
       "      <td>19</td>\n",
       "      <td>1</td>\n",
       "      <td>1457.55</td>\n",
       "      <td>4</td>\n",
       "      <td>1</td>\n",
       "      <td>4</td>\n",
       "      <td>414</td>\n",
       "    </tr>\n",
       "    <tr>\n",
       "      <th>12350</th>\n",
       "      <td>311</td>\n",
       "      <td>1</td>\n",
       "      <td>294.40</td>\n",
       "      <td>1</td>\n",
       "      <td>1</td>\n",
       "      <td>2</td>\n",
       "      <td>112</td>\n",
       "    </tr>\n",
       "    <tr>\n",
       "      <th>12352</th>\n",
       "      <td>37</td>\n",
       "      <td>5</td>\n",
       "      <td>1125.28</td>\n",
       "      <td>3</td>\n",
       "      <td>4</td>\n",
       "      <td>4</td>\n",
       "      <td>344</td>\n",
       "    </tr>\n",
       "  </tbody>\n",
       "</table>\n",
       "</div>"
      ],
      "text/plain": [
       "            Recency  Frequency  Monetary  R_score  F_score  M_score  RFM_score\n",
       "CustomerID                                                                    \n",
       "12347             3          7   4310.00        5        5        5        555\n",
       "12348            76          4   1437.24        2        3        4        234\n",
       "12349            19          1   1457.55        4        1        4        414\n",
       "12350           311          1    294.40        1        1        2        112\n",
       "12352            37          5   1125.28        3        4        4        344"
      ]
     },
     "execution_count": 31,
     "metadata": {},
     "output_type": "execute_result"
    }
   ],
   "source": [
    "# Take a peak of our RFM table by CustomerID\n",
    "rfm.head()"
   ]
  },
  {
   "cell_type": "code",
   "execution_count": 32,
   "metadata": {},
   "outputs": [],
   "source": [
    "# Convert the RFM_score into string\n",
    "rfm['RFM_score'] = rfm['RFM_score'].astype('str')"
   ]
  },
  {
   "cell_type": "code",
   "execution_count": 33,
   "metadata": {},
   "outputs": [
    {
     "data": {
      "text/html": [
       "<div>\n",
       "<style scoped>\n",
       "    .dataframe tbody tr th:only-of-type {\n",
       "        vertical-align: middle;\n",
       "    }\n",
       "\n",
       "    .dataframe tbody tr th {\n",
       "        vertical-align: top;\n",
       "    }\n",
       "\n",
       "    .dataframe thead th {\n",
       "        text-align: right;\n",
       "    }\n",
       "</style>\n",
       "<table border=\"1\" class=\"dataframe\">\n",
       "  <thead>\n",
       "    <tr style=\"text-align: right;\">\n",
       "      <th>R_score</th>\n",
       "      <th>1</th>\n",
       "      <th>2</th>\n",
       "      <th>3</th>\n",
       "      <th>4</th>\n",
       "      <th>5</th>\n",
       "    </tr>\n",
       "    <tr>\n",
       "      <th>F_score</th>\n",
       "      <th></th>\n",
       "      <th></th>\n",
       "      <th></th>\n",
       "      <th></th>\n",
       "      <th></th>\n",
       "    </tr>\n",
       "  </thead>\n",
       "  <tbody>\n",
       "    <tr>\n",
       "      <th>1</th>\n",
       "      <td>559</td>\n",
       "      <td>438</td>\n",
       "      <td>230</td>\n",
       "      <td>142</td>\n",
       "      <td>67</td>\n",
       "    </tr>\n",
       "    <tr>\n",
       "      <th>2</th>\n",
       "      <td>151</td>\n",
       "      <td>272</td>\n",
       "      <td>150</td>\n",
       "      <td>137</td>\n",
       "      <td>122</td>\n",
       "    </tr>\n",
       "    <tr>\n",
       "      <th>3</th>\n",
       "      <td>66</td>\n",
       "      <td>263</td>\n",
       "      <td>188</td>\n",
       "      <td>208</td>\n",
       "      <td>173</td>\n",
       "    </tr>\n",
       "    <tr>\n",
       "      <th>4</th>\n",
       "      <td>14</td>\n",
       "      <td>67</td>\n",
       "      <td>94</td>\n",
       "      <td>107</td>\n",
       "      <td>125</td>\n",
       "    </tr>\n",
       "    <tr>\n",
       "      <th>5</th>\n",
       "      <td>4</td>\n",
       "      <td>49</td>\n",
       "      <td>83</td>\n",
       "      <td>165</td>\n",
       "      <td>374</td>\n",
       "    </tr>\n",
       "  </tbody>\n",
       "</table>\n",
       "</div>"
      ],
      "text/plain": [
       "R_score    1    2    3    4    5\n",
       "F_score                         \n",
       "1        559  438  230  142   67\n",
       "2        151  272  150  137  122\n",
       "3         66  263  188  208  173\n",
       "4         14   67   94  107  125\n",
       "5          4   49   83  165  374"
      ]
     },
     "execution_count": 33,
     "metadata": {},
     "output_type": "execute_result"
    }
   ],
   "source": [
    "# F-R plot: Count the number of users in each F-R pair.\n",
    "rfm_count = pd.pivot_table(rfm, values='RFM_score', index= ['F_score'],\n",
    "                    columns=['R_score'], aggfunc='size', fill_value=0)\n",
    "rfm_count"
   ]
  },
  {
   "cell_type": "code",
   "execution_count": 34,
   "metadata": {},
   "outputs": [
    {
     "data": {
      "text/html": [
       "<div>\n",
       "<style scoped>\n",
       "    .dataframe tbody tr th:only-of-type {\n",
       "        vertical-align: middle;\n",
       "    }\n",
       "\n",
       "    .dataframe tbody tr th {\n",
       "        vertical-align: top;\n",
       "    }\n",
       "\n",
       "    .dataframe thead th {\n",
       "        text-align: right;\n",
       "    }\n",
       "</style>\n",
       "<table border=\"1\" class=\"dataframe\">\n",
       "  <thead>\n",
       "    <tr style=\"text-align: right;\">\n",
       "      <th>R_score</th>\n",
       "      <th>1</th>\n",
       "      <th>2</th>\n",
       "      <th>3</th>\n",
       "      <th>4</th>\n",
       "      <th>5</th>\n",
       "    </tr>\n",
       "    <tr>\n",
       "      <th>F_score</th>\n",
       "      <th></th>\n",
       "      <th></th>\n",
       "      <th></th>\n",
       "      <th></th>\n",
       "      <th></th>\n",
       "    </tr>\n",
       "  </thead>\n",
       "  <tbody>\n",
       "    <tr>\n",
       "      <th>1</th>\n",
       "      <td>228.84</td>\n",
       "      <td>299.70</td>\n",
       "      <td>270.88</td>\n",
       "      <td>224.60</td>\n",
       "      <td>227.39</td>\n",
       "    </tr>\n",
       "    <tr>\n",
       "      <th>2</th>\n",
       "      <td>458.85</td>\n",
       "      <td>598.50</td>\n",
       "      <td>581.09</td>\n",
       "      <td>484.82</td>\n",
       "      <td>507.39</td>\n",
       "    </tr>\n",
       "    <tr>\n",
       "      <th>3</th>\n",
       "      <td>627.06</td>\n",
       "      <td>922.12</td>\n",
       "      <td>992.80</td>\n",
       "      <td>969.53</td>\n",
       "      <td>952.66</td>\n",
       "    </tr>\n",
       "    <tr>\n",
       "      <th>4</th>\n",
       "      <td>872.60</td>\n",
       "      <td>1801.14</td>\n",
       "      <td>1812.15</td>\n",
       "      <td>1521.04</td>\n",
       "      <td>1682.36</td>\n",
       "    </tr>\n",
       "    <tr>\n",
       "      <th>5</th>\n",
       "      <td>3089.15</td>\n",
       "      <td>2320.46</td>\n",
       "      <td>3142.06</td>\n",
       "      <td>3345.11</td>\n",
       "      <td>4015.49</td>\n",
       "    </tr>\n",
       "  </tbody>\n",
       "</table>\n",
       "</div>"
      ],
      "text/plain": [
       "R_score        1        2        3        4        5\n",
       "F_score                                             \n",
       "1         228.84   299.70   270.88   224.60   227.39\n",
       "2         458.85   598.50   581.09   484.82   507.39\n",
       "3         627.06   922.12   992.80   969.53   952.66\n",
       "4         872.60  1801.14  1812.15  1521.04  1682.36\n",
       "5        3089.15  2320.46  3142.06  3345.11  4015.49"
      ]
     },
     "execution_count": 34,
     "metadata": {},
     "output_type": "execute_result"
    }
   ],
   "source": [
    "# F-R plot: Find the monetary median of users in each F-R pair.\n",
    "rfm_median = pd.pivot_table(rfm, values='Monetary', index= ['F_score'],\n",
    "                    columns=['R_score'], aggfunc='median', fill_value=0).round(2)\n",
    "rfm_median"
   ]
  },
  {
   "cell_type": "code",
   "execution_count": 35,
   "metadata": {},
   "outputs": [
    {
     "data": {
      "text/html": [
       "<div>\n",
       "<style scoped>\n",
       "    .dataframe tbody tr th:only-of-type {\n",
       "        vertical-align: middle;\n",
       "    }\n",
       "\n",
       "    .dataframe tbody tr th {\n",
       "        vertical-align: top;\n",
       "    }\n",
       "\n",
       "    .dataframe thead th {\n",
       "        text-align: right;\n",
       "    }\n",
       "</style>\n",
       "<table border=\"1\" class=\"dataframe\">\n",
       "  <thead>\n",
       "    <tr style=\"text-align: right;\">\n",
       "      <th>R_score</th>\n",
       "      <th>1</th>\n",
       "      <th>2</th>\n",
       "      <th>3</th>\n",
       "      <th>4</th>\n",
       "      <th>5</th>\n",
       "    </tr>\n",
       "    <tr>\n",
       "      <th>F_score</th>\n",
       "      <th></th>\n",
       "      <th></th>\n",
       "      <th></th>\n",
       "      <th></th>\n",
       "      <th></th>\n",
       "    </tr>\n",
       "  </thead>\n",
       "  <tbody>\n",
       "    <tr>\n",
       "      <th>1</th>\n",
       "      <td>331.41</td>\n",
       "      <td>416.91</td>\n",
       "      <td>395.89</td>\n",
       "      <td>289.06</td>\n",
       "      <td>335.54</td>\n",
       "    </tr>\n",
       "    <tr>\n",
       "      <th>2</th>\n",
       "      <td>977.47</td>\n",
       "      <td>751.66</td>\n",
       "      <td>701.83</td>\n",
       "      <td>622.24</td>\n",
       "      <td>618.23</td>\n",
       "    </tr>\n",
       "    <tr>\n",
       "      <th>3</th>\n",
       "      <td>873.67</td>\n",
       "      <td>1168.33</td>\n",
       "      <td>1291.32</td>\n",
       "      <td>1248.62</td>\n",
       "      <td>1280.88</td>\n",
       "    </tr>\n",
       "    <tr>\n",
       "      <th>4</th>\n",
       "      <td>954.26</td>\n",
       "      <td>1939.08</td>\n",
       "      <td>2112.69</td>\n",
       "      <td>2218.53</td>\n",
       "      <td>1923.61</td>\n",
       "    </tr>\n",
       "    <tr>\n",
       "      <th>5</th>\n",
       "      <td>4046.26</td>\n",
       "      <td>3089.61</td>\n",
       "      <td>4352.94</td>\n",
       "      <td>5474.00</td>\n",
       "      <td>10278.57</td>\n",
       "    </tr>\n",
       "  </tbody>\n",
       "</table>\n",
       "</div>"
      ],
      "text/plain": [
       "R_score        1        2        3        4         5\n",
       "F_score                                              \n",
       "1         331.41   416.91   395.89   289.06    335.54\n",
       "2         977.47   751.66   701.83   622.24    618.23\n",
       "3         873.67  1168.33  1291.32  1248.62   1280.88\n",
       "4         954.26  1939.08  2112.69  2218.53   1923.61\n",
       "5        4046.26  3089.61  4352.94  5474.00  10278.57"
      ]
     },
     "execution_count": 35,
     "metadata": {},
     "output_type": "execute_result"
    }
   ],
   "source": [
    "# F-R plot: Find the monetary mean of users in each F-R pair.\n",
    "rfm_mean = pd.pivot_table(rfm, values='Monetary', index= ['F_score'],\n",
    "                    columns=['R_score'], aggfunc='mean', fill_value=0).round(2)\n",
    "rfm_mean"
   ]
  },
  {
   "cell_type": "code",
   "execution_count": 36,
   "metadata": {},
   "outputs": [
    {
     "data": {
      "text/html": [
       "<div>\n",
       "<style scoped>\n",
       "    .dataframe tbody tr th:only-of-type {\n",
       "        vertical-align: middle;\n",
       "    }\n",
       "\n",
       "    .dataframe tbody tr th {\n",
       "        vertical-align: top;\n",
       "    }\n",
       "\n",
       "    .dataframe thead th {\n",
       "        text-align: right;\n",
       "    }\n",
       "</style>\n",
       "<table border=\"1\" class=\"dataframe\">\n",
       "  <thead>\n",
       "    <tr style=\"text-align: right;\">\n",
       "      <th>R_score</th>\n",
       "      <th>1</th>\n",
       "      <th>2</th>\n",
       "      <th>3</th>\n",
       "      <th>4</th>\n",
       "      <th>5</th>\n",
       "    </tr>\n",
       "    <tr>\n",
       "      <th>F_score</th>\n",
       "      <th></th>\n",
       "      <th></th>\n",
       "      <th></th>\n",
       "      <th></th>\n",
       "      <th></th>\n",
       "    </tr>\n",
       "  </thead>\n",
       "  <tbody>\n",
       "    <tr>\n",
       "      <th>1</th>\n",
       "      <td>185256</td>\n",
       "      <td>182608</td>\n",
       "      <td>91055</td>\n",
       "      <td>41047</td>\n",
       "      <td>22481</td>\n",
       "    </tr>\n",
       "    <tr>\n",
       "      <th>2</th>\n",
       "      <td>147598</td>\n",
       "      <td>204453</td>\n",
       "      <td>105274</td>\n",
       "      <td>85247</td>\n",
       "      <td>75424</td>\n",
       "    </tr>\n",
       "    <tr>\n",
       "      <th>3</th>\n",
       "      <td>57662</td>\n",
       "      <td>307271</td>\n",
       "      <td>242768</td>\n",
       "      <td>259713</td>\n",
       "      <td>221593</td>\n",
       "    </tr>\n",
       "    <tr>\n",
       "      <th>4</th>\n",
       "      <td>13360</td>\n",
       "      <td>129918</td>\n",
       "      <td>198593</td>\n",
       "      <td>237383</td>\n",
       "      <td>240451</td>\n",
       "    </tr>\n",
       "    <tr>\n",
       "      <th>5</th>\n",
       "      <td>16185</td>\n",
       "      <td>151391</td>\n",
       "      <td>361294</td>\n",
       "      <td>903211</td>\n",
       "      <td>3844184</td>\n",
       "    </tr>\n",
       "  </tbody>\n",
       "</table>\n",
       "</div>"
      ],
      "text/plain": [
       "R_score       1       2       3       4        5\n",
       "F_score                                         \n",
       "1        185256  182608   91055   41047    22481\n",
       "2        147598  204453  105274   85247    75424\n",
       "3         57662  307271  242768  259713   221593\n",
       "4         13360  129918  198593  237383   240451\n",
       "5         16185  151391  361294  903211  3844184"
      ]
     },
     "execution_count": 36,
     "metadata": {},
     "output_type": "execute_result"
    }
   ],
   "source": [
    "# F-R plot: Find the monetary sum of users in each F-R pair.\n",
    "rfm_sum = pd.pivot_table(rfm, values='Monetary', index= ['F_score'],\n",
    "                    columns=['R_score'], aggfunc='sum', fill_value=0).round(0).astype(int)\n",
    "rfm_sum"
   ]
  },
  {
   "cell_type": "code",
   "execution_count": 37,
   "metadata": {},
   "outputs": [
    {
     "data": {
      "text/html": [
       "<div>\n",
       "<style scoped>\n",
       "    .dataframe tbody tr th:only-of-type {\n",
       "        vertical-align: middle;\n",
       "    }\n",
       "\n",
       "    .dataframe tbody tr th {\n",
       "        vertical-align: top;\n",
       "    }\n",
       "\n",
       "    .dataframe thead tr th {\n",
       "        text-align: left;\n",
       "    }\n",
       "\n",
       "    .dataframe thead tr:last-of-type th {\n",
       "        text-align: right;\n",
       "    }\n",
       "</style>\n",
       "<table border=\"1\" class=\"dataframe\">\n",
       "  <thead>\n",
       "    <tr>\n",
       "      <th></th>\n",
       "      <th>RFM_score</th>\n",
       "      <th colspan=\"3\" halign=\"left\">Monetary</th>\n",
       "    </tr>\n",
       "    <tr>\n",
       "      <th></th>\n",
       "      <th>size</th>\n",
       "      <th>sum</th>\n",
       "      <th>mean</th>\n",
       "      <th>median</th>\n",
       "    </tr>\n",
       "    <tr>\n",
       "      <th>RFM_score</th>\n",
       "      <th></th>\n",
       "      <th></th>\n",
       "      <th></th>\n",
       "      <th></th>\n",
       "    </tr>\n",
       "  </thead>\n",
       "  <tbody>\n",
       "    <tr>\n",
       "      <th>111</th>\n",
       "      <td>297</td>\n",
       "      <td>42560</td>\n",
       "      <td>143</td>\n",
       "      <td>141</td>\n",
       "    </tr>\n",
       "    <tr>\n",
       "      <th>112</th>\n",
       "      <td>187</td>\n",
       "      <td>64394</td>\n",
       "      <td>344</td>\n",
       "      <td>330</td>\n",
       "    </tr>\n",
       "    <tr>\n",
       "      <th>113</th>\n",
       "      <td>50</td>\n",
       "      <td>32046</td>\n",
       "      <td>640</td>\n",
       "      <td>593</td>\n",
       "    </tr>\n",
       "    <tr>\n",
       "      <th>114</th>\n",
       "      <td>20</td>\n",
       "      <td>25911</td>\n",
       "      <td>1295</td>\n",
       "      <td>1214</td>\n",
       "    </tr>\n",
       "    <tr>\n",
       "      <th>115</th>\n",
       "      <td>5</td>\n",
       "      <td>20342</td>\n",
       "      <td>4068</td>\n",
       "      <td>3096</td>\n",
       "    </tr>\n",
       "    <tr>\n",
       "      <th>121</th>\n",
       "      <td>23</td>\n",
       "      <td>3767</td>\n",
       "      <td>163</td>\n",
       "      <td>163</td>\n",
       "    </tr>\n",
       "    <tr>\n",
       "      <th>122</th>\n",
       "      <td>58</td>\n",
       "      <td>20302</td>\n",
       "      <td>350</td>\n",
       "      <td>329</td>\n",
       "    </tr>\n",
       "    <tr>\n",
       "      <th>123</th>\n",
       "      <td>47</td>\n",
       "      <td>33035</td>\n",
       "      <td>702</td>\n",
       "      <td>652</td>\n",
       "    </tr>\n",
       "    <tr>\n",
       "      <th>124</th>\n",
       "      <td>18</td>\n",
       "      <td>24734</td>\n",
       "      <td>1374</td>\n",
       "      <td>1328</td>\n",
       "    </tr>\n",
       "    <tr>\n",
       "      <th>125</th>\n",
       "      <td>5</td>\n",
       "      <td>65758</td>\n",
       "      <td>13151</td>\n",
       "      <td>3246</td>\n",
       "    </tr>\n",
       "    <tr>\n",
       "      <th>131</th>\n",
       "      <td>3</td>\n",
       "      <td>620</td>\n",
       "      <td>206</td>\n",
       "      <td>208</td>\n",
       "    </tr>\n",
       "    <tr>\n",
       "      <th>132</th>\n",
       "      <td>23</td>\n",
       "      <td>8972</td>\n",
       "      <td>390</td>\n",
       "      <td>400</td>\n",
       "    </tr>\n",
       "    <tr>\n",
       "      <th>133</th>\n",
       "      <td>21</td>\n",
       "      <td>14832</td>\n",
       "      <td>706</td>\n",
       "      <td>697</td>\n",
       "    </tr>\n",
       "    <tr>\n",
       "      <th>134</th>\n",
       "      <td>14</td>\n",
       "      <td>18288</td>\n",
       "      <td>1306</td>\n",
       "      <td>1328</td>\n",
       "    </tr>\n",
       "    <tr>\n",
       "      <th>135</th>\n",
       "      <td>5</td>\n",
       "      <td>14946</td>\n",
       "      <td>2989</td>\n",
       "      <td>3010</td>\n",
       "    </tr>\n",
       "    <tr>\n",
       "      <th>142</th>\n",
       "      <td>4</td>\n",
       "      <td>1327</td>\n",
       "      <td>331</td>\n",
       "      <td>298</td>\n",
       "    </tr>\n",
       "    <tr>\n",
       "      <th>143</th>\n",
       "      <td>3</td>\n",
       "      <td>2003</td>\n",
       "      <td>667</td>\n",
       "      <td>658</td>\n",
       "    </tr>\n",
       "    <tr>\n",
       "      <th>144</th>\n",
       "      <td>6</td>\n",
       "      <td>7974</td>\n",
       "      <td>1329</td>\n",
       "      <td>1352</td>\n",
       "    </tr>\n",
       "    <tr>\n",
       "      <th>145</th>\n",
       "      <td>1</td>\n",
       "      <td>2054</td>\n",
       "      <td>2054</td>\n",
       "      <td>2054</td>\n",
       "    </tr>\n",
       "    <tr>\n",
       "      <th>155</th>\n",
       "      <td>4</td>\n",
       "      <td>16185</td>\n",
       "      <td>4046</td>\n",
       "      <td>3089</td>\n",
       "    </tr>\n",
       "    <tr>\n",
       "      <th>211</th>\n",
       "      <td>185</td>\n",
       "      <td>26445</td>\n",
       "      <td>142</td>\n",
       "      <td>145</td>\n",
       "    </tr>\n",
       "    <tr>\n",
       "      <th>212</th>\n",
       "      <td>156</td>\n",
       "      <td>54851</td>\n",
       "      <td>351</td>\n",
       "      <td>339</td>\n",
       "    </tr>\n",
       "    <tr>\n",
       "      <th>213</th>\n",
       "      <td>69</td>\n",
       "      <td>47126</td>\n",
       "      <td>682</td>\n",
       "      <td>642</td>\n",
       "    </tr>\n",
       "    <tr>\n",
       "      <th>214</th>\n",
       "      <td>20</td>\n",
       "      <td>27929</td>\n",
       "      <td>1396</td>\n",
       "      <td>1347</td>\n",
       "    </tr>\n",
       "    <tr>\n",
       "      <th>215</th>\n",
       "      <td>8</td>\n",
       "      <td>26255</td>\n",
       "      <td>3281</td>\n",
       "      <td>3305</td>\n",
       "    </tr>\n",
       "    <tr>\n",
       "      <th>221</th>\n",
       "      <td>34</td>\n",
       "      <td>6258</td>\n",
       "      <td>184</td>\n",
       "      <td>189</td>\n",
       "    </tr>\n",
       "    <tr>\n",
       "      <th>222</th>\n",
       "      <td>73</td>\n",
       "      <td>27473</td>\n",
       "      <td>376</td>\n",
       "      <td>379</td>\n",
       "    </tr>\n",
       "    <tr>\n",
       "      <th>223</th>\n",
       "      <td>115</td>\n",
       "      <td>79226</td>\n",
       "      <td>688</td>\n",
       "      <td>656</td>\n",
       "    </tr>\n",
       "    <tr>\n",
       "      <th>224</th>\n",
       "      <td>41</td>\n",
       "      <td>52834</td>\n",
       "      <td>1288</td>\n",
       "      <td>1230</td>\n",
       "    </tr>\n",
       "    <tr>\n",
       "      <th>225</th>\n",
       "      <td>9</td>\n",
       "      <td>38660</td>\n",
       "      <td>4295</td>\n",
       "      <td>2791</td>\n",
       "    </tr>\n",
       "    <tr>\n",
       "      <th>...</th>\n",
       "      <td>...</td>\n",
       "      <td>...</td>\n",
       "      <td>...</td>\n",
       "      <td>...</td>\n",
       "    </tr>\n",
       "    <tr>\n",
       "      <th>443</th>\n",
       "      <td>22</td>\n",
       "      <td>18572</td>\n",
       "      <td>844</td>\n",
       "      <td>888</td>\n",
       "    </tr>\n",
       "    <tr>\n",
       "      <th>444</th>\n",
       "      <td>49</td>\n",
       "      <td>71792</td>\n",
       "      <td>1465</td>\n",
       "      <td>1406</td>\n",
       "    </tr>\n",
       "    <tr>\n",
       "      <th>445</th>\n",
       "      <td>34</td>\n",
       "      <td>146224</td>\n",
       "      <td>4300</td>\n",
       "      <td>2855</td>\n",
       "    </tr>\n",
       "    <tr>\n",
       "      <th>453</th>\n",
       "      <td>3</td>\n",
       "      <td>2789</td>\n",
       "      <td>929</td>\n",
       "      <td>916</td>\n",
       "    </tr>\n",
       "    <tr>\n",
       "      <th>454</th>\n",
       "      <td>29</td>\n",
       "      <td>44140</td>\n",
       "      <td>1522</td>\n",
       "      <td>1567</td>\n",
       "    </tr>\n",
       "    <tr>\n",
       "      <th>455</th>\n",
       "      <td>133</td>\n",
       "      <td>856280</td>\n",
       "      <td>6438</td>\n",
       "      <td>4058</td>\n",
       "    </tr>\n",
       "    <tr>\n",
       "      <th>511</th>\n",
       "      <td>39</td>\n",
       "      <td>6427</td>\n",
       "      <td>164</td>\n",
       "      <td>164</td>\n",
       "    </tr>\n",
       "    <tr>\n",
       "      <th>512</th>\n",
       "      <td>20</td>\n",
       "      <td>7375</td>\n",
       "      <td>368</td>\n",
       "      <td>356</td>\n",
       "    </tr>\n",
       "    <tr>\n",
       "      <th>513</th>\n",
       "      <td>6</td>\n",
       "      <td>3654</td>\n",
       "      <td>609</td>\n",
       "      <td>569</td>\n",
       "    </tr>\n",
       "    <tr>\n",
       "      <th>514</th>\n",
       "      <td>1</td>\n",
       "      <td>1162</td>\n",
       "      <td>1162</td>\n",
       "      <td>1162</td>\n",
       "    </tr>\n",
       "    <tr>\n",
       "      <th>515</th>\n",
       "      <td>1</td>\n",
       "      <td>3861</td>\n",
       "      <td>3861</td>\n",
       "      <td>3861</td>\n",
       "    </tr>\n",
       "    <tr>\n",
       "      <th>521</th>\n",
       "      <td>17</td>\n",
       "      <td>2980</td>\n",
       "      <td>175</td>\n",
       "      <td>176</td>\n",
       "    </tr>\n",
       "    <tr>\n",
       "      <th>522</th>\n",
       "      <td>43</td>\n",
       "      <td>15389</td>\n",
       "      <td>357</td>\n",
       "      <td>360</td>\n",
       "    </tr>\n",
       "    <tr>\n",
       "      <th>523</th>\n",
       "      <td>47</td>\n",
       "      <td>33986</td>\n",
       "      <td>723</td>\n",
       "      <td>679</td>\n",
       "    </tr>\n",
       "    <tr>\n",
       "      <th>524</th>\n",
       "      <td>13</td>\n",
       "      <td>17675</td>\n",
       "      <td>1359</td>\n",
       "      <td>1237</td>\n",
       "    </tr>\n",
       "    <tr>\n",
       "      <th>525</th>\n",
       "      <td>2</td>\n",
       "      <td>5391</td>\n",
       "      <td>2695</td>\n",
       "      <td>2695</td>\n",
       "    </tr>\n",
       "    <tr>\n",
       "      <th>531</th>\n",
       "      <td>4</td>\n",
       "      <td>664</td>\n",
       "      <td>166</td>\n",
       "      <td>179</td>\n",
       "    </tr>\n",
       "    <tr>\n",
       "      <th>532</th>\n",
       "      <td>16</td>\n",
       "      <td>6383</td>\n",
       "      <td>398</td>\n",
       "      <td>412</td>\n",
       "    </tr>\n",
       "    <tr>\n",
       "      <th>533</th>\n",
       "      <td>69</td>\n",
       "      <td>50707</td>\n",
       "      <td>734</td>\n",
       "      <td>712</td>\n",
       "    </tr>\n",
       "    <tr>\n",
       "      <th>534</th>\n",
       "      <td>59</td>\n",
       "      <td>82771</td>\n",
       "      <td>1402</td>\n",
       "      <td>1352</td>\n",
       "    </tr>\n",
       "    <tr>\n",
       "      <th>535</th>\n",
       "      <td>25</td>\n",
       "      <td>81064</td>\n",
       "      <td>3242</td>\n",
       "      <td>2720</td>\n",
       "    </tr>\n",
       "    <tr>\n",
       "      <th>541</th>\n",
       "      <td>1</td>\n",
       "      <td>220</td>\n",
       "      <td>220</td>\n",
       "      <td>220</td>\n",
       "    </tr>\n",
       "    <tr>\n",
       "      <th>542</th>\n",
       "      <td>1</td>\n",
       "      <td>400</td>\n",
       "      <td>400</td>\n",
       "      <td>400</td>\n",
       "    </tr>\n",
       "    <tr>\n",
       "      <th>543</th>\n",
       "      <td>21</td>\n",
       "      <td>17363</td>\n",
       "      <td>826</td>\n",
       "      <td>846</td>\n",
       "    </tr>\n",
       "    <tr>\n",
       "      <th>544</th>\n",
       "      <td>56</td>\n",
       "      <td>81556</td>\n",
       "      <td>1456</td>\n",
       "      <td>1464</td>\n",
       "    </tr>\n",
       "    <tr>\n",
       "      <th>545</th>\n",
       "      <td>46</td>\n",
       "      <td>140910</td>\n",
       "      <td>3063</td>\n",
       "      <td>2523</td>\n",
       "    </tr>\n",
       "    <tr>\n",
       "      <th>551</th>\n",
       "      <td>1</td>\n",
       "      <td>191</td>\n",
       "      <td>191</td>\n",
       "      <td>191</td>\n",
       "    </tr>\n",
       "    <tr>\n",
       "      <th>553</th>\n",
       "      <td>3</td>\n",
       "      <td>2520</td>\n",
       "      <td>840</td>\n",
       "      <td>930</td>\n",
       "    </tr>\n",
       "    <tr>\n",
       "      <th>554</th>\n",
       "      <td>53</td>\n",
       "      <td>84141</td>\n",
       "      <td>1587</td>\n",
       "      <td>1624</td>\n",
       "    </tr>\n",
       "    <tr>\n",
       "      <th>555</th>\n",
       "      <td>317</td>\n",
       "      <td>3757331</td>\n",
       "      <td>11852</td>\n",
       "      <td>4628</td>\n",
       "    </tr>\n",
       "  </tbody>\n",
       "</table>\n",
       "<p>110 rows × 4 columns</p>\n",
       "</div>"
      ],
      "text/plain": [
       "          RFM_score Monetary              \n",
       "               size      sum   mean median\n",
       "RFM_score                                 \n",
       "111             297    42560    143    141\n",
       "112             187    64394    344    330\n",
       "113              50    32046    640    593\n",
       "114              20    25911   1295   1214\n",
       "115               5    20342   4068   3096\n",
       "121              23     3767    163    163\n",
       "122              58    20302    350    329\n",
       "123              47    33035    702    652\n",
       "124              18    24734   1374   1328\n",
       "125               5    65758  13151   3246\n",
       "131               3      620    206    208\n",
       "132              23     8972    390    400\n",
       "133              21    14832    706    697\n",
       "134              14    18288   1306   1328\n",
       "135               5    14946   2989   3010\n",
       "142               4     1327    331    298\n",
       "143               3     2003    667    658\n",
       "144               6     7974   1329   1352\n",
       "145               1     2054   2054   2054\n",
       "155               4    16185   4046   3089\n",
       "211             185    26445    142    145\n",
       "212             156    54851    351    339\n",
       "213              69    47126    682    642\n",
       "214              20    27929   1396   1347\n",
       "215               8    26255   3281   3305\n",
       "221              34     6258    184    189\n",
       "222              73    27473    376    379\n",
       "223             115    79226    688    656\n",
       "224              41    52834   1288   1230\n",
       "225               9    38660   4295   2791\n",
       "...             ...      ...    ...    ...\n",
       "443              22    18572    844    888\n",
       "444              49    71792   1465   1406\n",
       "445              34   146224   4300   2855\n",
       "453               3     2789    929    916\n",
       "454              29    44140   1522   1567\n",
       "455             133   856280   6438   4058\n",
       "511              39     6427    164    164\n",
       "512              20     7375    368    356\n",
       "513               6     3654    609    569\n",
       "514               1     1162   1162   1162\n",
       "515               1     3861   3861   3861\n",
       "521              17     2980    175    176\n",
       "522              43    15389    357    360\n",
       "523              47    33986    723    679\n",
       "524              13    17675   1359   1237\n",
       "525               2     5391   2695   2695\n",
       "531               4      664    166    179\n",
       "532              16     6383    398    412\n",
       "533              69    50707    734    712\n",
       "534              59    82771   1402   1352\n",
       "535              25    81064   3242   2720\n",
       "541               1      220    220    220\n",
       "542               1      400    400    400\n",
       "543              21    17363    826    846\n",
       "544              56    81556   1456   1464\n",
       "545              46   140910   3063   2523\n",
       "551               1      191    191    191\n",
       "553               3     2520    840    930\n",
       "554              53    84141   1587   1624\n",
       "555             317  3757331  11852   4628\n",
       "\n",
       "[110 rows x 4 columns]"
      ]
     },
     "execution_count": 37,
     "metadata": {},
     "output_type": "execute_result"
    }
   ],
   "source": [
    "# See the RFM scores, and monetary metrics from all 5x5x5 RFM groups\n",
    "rfm_agg = rfm.groupby('RFM_score').agg({'RFM_score':'size', 'Monetary': ['sum', 'mean','median']}).round(2).astype(int)\n",
    "rfm_agg"
   ]
  },
  {
   "cell_type": "code",
   "execution_count": 38,
   "metadata": {},
   "outputs": [],
   "source": [
    "def heatmap(data, ax = None):\n",
    "    \n",
    "    # A `matplotlib.axes.Axes` instance to which the heatmap is plotted.  \n",
    "    # If not provided, use current axes or create a new one.\n",
    "    if not ax:\n",
    "        ax = plt.gca()\n",
    "        \n",
    "    im = ax.imshow(data, cmap=\"YlGn\")\n",
    "    \n",
    "    # Show all ticks\n",
    "    ax.set_xticks(np.arange(5))\n",
    "    ax.set_yticks(np.arange(5))\n",
    "    # label all ticks with the respective list entries\n",
    "    ax.set_xticklabels(data.columns)\n",
    "    ax.set_yticklabels(data.index)\n",
    "\n",
    "    # Create colorbar\n",
    "    cbar = ax.figure.colorbar(im, ax=ax)\n",
    "\n",
    "    # Let the horizontal axes labeling appear on top.\n",
    "    ax.tick_params(top=True, bottom=False,\n",
    "                   labeltop=True, labelbottom=False)\n",
    "\n",
    "    # Normalize the threshold to the images color range.\n",
    "    threshold = im.norm(data.max().max())/2.\n",
    "    textcolors=(\"black\", \"white\")\n",
    "\n",
    "    # Loop over data dimensions and create text annotations.\n",
    "    for i in range(5):\n",
    "        for j in range(5):\n",
    "            text = ax.text(j, i, data.iloc[i, j],\n",
    "                           ha=\"center\", va=\"center\", color=textcolors[int(im.norm(data.iloc[i, j]) > threshold)])\n",
    "\n",
    "    # ax.set_title(\"RFM Customer Group Counts\")\n",
    "    plt.xlabel(\"R Score\")\n",
    "    plt.ylabel(\"F Score\")\n",
    "    \n",
    "    return im"
   ]
  },
  {
   "cell_type": "code",
   "execution_count": 39,
   "metadata": {},
   "outputs": [
    {
     "data": {
      "image/png": "[encoded data removed]",
      "text/plain": [
       "<Figure size 600x480 with 2 Axes>"
      ]
     },
     "metadata": {
      "needs_background": "light"
     },
     "output_type": "display_data"
    }
   ],
   "source": [
    "fig, ax = plt.subplots(figsize=(5, 4), dpi=120)\n",
    "heatmap(rfm_count, ax = ax)\n",
    "fig.tight_layout()\n",
    "plt.show()"
   ]
  },
  {
   "cell_type": "code",
   "execution_count": 40,
   "metadata": {},
   "outputs": [
    {
     "data": {
      "image/png": "[encoded data removed]",
      "text/plain": [
       "<Figure size 600x480 with 2 Axes>"
      ]
     },
     "metadata": {
      "needs_background": "light"
     },
     "output_type": "display_data"
    }
   ],
   "source": [
    "fig, ax = plt.subplots(figsize=(5, 4), dpi=120)\n",
    "heatmap(rfm_median, ax = ax)\n",
    "fig.tight_layout()\n",
    "plt.show()"
   ]
  },
  {
   "cell_type": "code",
   "execution_count": 41,
   "metadata": {},
   "outputs": [
    {
     "data": {
      "image/png": "[encoded data removed]",
      "text/plain": [
       "<Figure size 600x480 with 2 Axes>"
      ]
     },
     "metadata": {
      "needs_background": "light"
     },
     "output_type": "display_data"
    }
   ],
   "source": [
    "fig, ax = plt.subplots(figsize=(5, 4), dpi=120)\n",
    "heatmap(rfm_mean, ax = ax)\n",
    "fig.tight_layout()\n",
    "plt.show()"
   ]
  },
  {
   "cell_type": "code",
   "execution_count": 42,
   "metadata": {},
   "outputs": [
    {
     "data": {
      "image/png": "[encoded data removed]",
      "text/plain": [
       "<Figure size 600x480 with 2 Axes>"
      ]
     },
     "metadata": {
      "needs_background": "light"
     },
     "output_type": "display_data"
    }
   ],
   "source": [
    "fig, ax = plt.subplots(figsize=(5, 4), dpi=120)\n",
    "heatmap(rfm_sum, ax = ax)\n",
    "fig.tight_layout()\n",
    "plt.show()"
   ]
  },
  {
   "cell_type": "markdown",
   "metadata": {},
   "source": [
    "### Short Summary:\n",
    "1. High-frequency buyers (especially F-score = 5, frequency > 6/year) contribute the most to the company.\n",
    "2. High frequency and most recent buyers (high F and R scores) are the ones we should definitely keep.\n",
    "3. Medium Frequency (F-score = 3) are the groups we want to save (give incentives), especially for those ones who have R-score > 2.\n",
    "4. The number of new customers is quite low, so the company should lunch some customer acquisition campaigns.\n",
    "5. There are quite some low frequency and low recency score buyers, which means the customers may lose interest in the website or products. The company should dive deep to investigate and save this group because new customer acquisitions are expensive."
   ]
  },
  {
   "cell_type": "markdown",
   "metadata": {},
   "source": [
    "### Assign Customer Segmentation based on RFM Scores\n",
    "\n",
    "It might not be practical to work on 5x5x5 = 125 RFM group individually. Some groups are too small, so it is hard for marketers to work on too many groups. \n",
    "Therefore, we combine some of the groups based on their RFM properties. We further assign customer segmentation for marketing purposes to give the marketers a clear goal to work on.\n",
    "\n",
    "\n",
    "#### Segment Description\n",
    "- **VIPs**: For those whose recent purchases are within 180 days and have bought more than 5 times in a year.\n",
    "- **Potential loyalists**: For those whose recent purchases are within 180 days and have bought 3-4 times in a year.\n",
    "- **Need to focus**: For those who have bought only 2 times in the past year.\n",
    "- **Good old friends**: For those who have bought more than 3 times didn't purchase within 180 days.\n",
    "- **New customers**: For those who have only purchased once and their recent purchase is less than 30 days.\n",
    "- **Hibernating**: For those who have only purchased once, and their recent purchase has been more than 30 days.\n",
    "\n",
    "#### Actions\n",
    "- **VIPs**: Keep them happy (at any cost).\n",
    "- **Potential loyalists**: Should give incentives to increase their tendency to buy more times on the website.\n",
    "- **Need to focus**: They have moderate monetary contributions, but the marketer should turn them in the potential groups ASAP; otherwise, they may turn to hibernate.\n",
    "- **Good old friends**: They were loyal, but it seems we are losing them. Give them incentives to recall their good memories (recommendation comes in because we have their purchase history) and make them have a recent purchase.\n",
    "- **New customers**: Make them want to purchase the second time; otherwise, they'll go hibernating.\n",
    "- **Hibernating**: We don't know them much, and they didn't purchase within a month. We need to guess to motivate them to buy another time. \n",
    "\n",
    "\n",
    "#### RFM Group\n",
    "- **VIPs**: 25x, 35x, 45x, 55x, 24x, 34x, 44x, 54x, where x = 1...5\n",
    "- **Potential loyalists**: 23x, 33x, 43x, 53x, where x = 1...5\n",
    "- **Need to focus**: 12x, 22x, 32x, 42x, 52x, where x = 1...5\n",
    "- **Good old frends**: 13x, 14x, 15x, where x = 1...5\n",
    "- **New customers**: 41x, 51x, where x = 1...5 \n",
    "- **Hibernating**: 11x, 21x, 31x, where x = 1...5  "
   ]
  },
  {
   "cell_type": "markdown",
   "metadata": {},
   "source": [
    "### Let's see how it becomes after we reduced segments from 5x5x5 RFM groups down to 6 marketing gruops  "
   ]
  },
  {
   "cell_type": "code",
   "execution_count": 43,
   "metadata": {},
   "outputs": [],
   "source": [
    "segmentation = {\n",
    "    r'[2-5][4-5]': 'VIPs',\n",
    "    r'[2-5]3': 'Potential loyalists',\n",
    "    r'[1-5]2': 'Need to focus',\n",
    "    r'1[3-5]': 'Good old frends',\n",
    "    r'[4-5]1': 'New customers',\n",
    "    r'[1-3]1': 'Hibernating',\n",
    "}"
   ]
  },
  {
   "cell_type": "code",
   "execution_count": 44,
   "metadata": {},
   "outputs": [],
   "source": [
    "rfm['Segment'] = rfm['R_score'] * 10 + rfm['F_score']\n",
    "rfm['Segment'] = rfm['Segment'].astype(str)"
   ]
  },
  {
   "cell_type": "code",
   "execution_count": 45,
   "metadata": {},
   "outputs": [
    {
     "data": {
      "text/html": [
       "<div>\n",
       "<style scoped>\n",
       "    .dataframe tbody tr th:only-of-type {\n",
       "        vertical-align: middle;\n",
       "    }\n",
       "\n",
       "    .dataframe tbody tr th {\n",
       "        vertical-align: top;\n",
       "    }\n",
       "\n",
       "    .dataframe thead th {\n",
       "        text-align: right;\n",
       "    }\n",
       "</style>\n",
       "<table border=\"1\" class=\"dataframe\">\n",
       "  <thead>\n",
       "    <tr style=\"text-align: right;\">\n",
       "      <th></th>\n",
       "      <th>Recency</th>\n",
       "      <th>Frequency</th>\n",
       "      <th>Monetary</th>\n",
       "      <th>R_score</th>\n",
       "      <th>F_score</th>\n",
       "      <th>M_score</th>\n",
       "      <th>RFM_score</th>\n",
       "      <th>Segment</th>\n",
       "    </tr>\n",
       "    <tr>\n",
       "      <th>CustomerID</th>\n",
       "      <th></th>\n",
       "      <th></th>\n",
       "      <th></th>\n",
       "      <th></th>\n",
       "      <th></th>\n",
       "      <th></th>\n",
       "      <th></th>\n",
       "      <th></th>\n",
       "    </tr>\n",
       "  </thead>\n",
       "  <tbody>\n",
       "    <tr>\n",
       "      <th>12347</th>\n",
       "      <td>3</td>\n",
       "      <td>7</td>\n",
       "      <td>4310.00</td>\n",
       "      <td>5</td>\n",
       "      <td>5</td>\n",
       "      <td>5</td>\n",
       "      <td>555</td>\n",
       "      <td>VIPs</td>\n",
       "    </tr>\n",
       "    <tr>\n",
       "      <th>12348</th>\n",
       "      <td>76</td>\n",
       "      <td>4</td>\n",
       "      <td>1437.24</td>\n",
       "      <td>2</td>\n",
       "      <td>3</td>\n",
       "      <td>4</td>\n",
       "      <td>234</td>\n",
       "      <td>Potential loyalists</td>\n",
       "    </tr>\n",
       "    <tr>\n",
       "      <th>12349</th>\n",
       "      <td>19</td>\n",
       "      <td>1</td>\n",
       "      <td>1457.55</td>\n",
       "      <td>4</td>\n",
       "      <td>1</td>\n",
       "      <td>4</td>\n",
       "      <td>414</td>\n",
       "      <td>New customers</td>\n",
       "    </tr>\n",
       "    <tr>\n",
       "      <th>12350</th>\n",
       "      <td>311</td>\n",
       "      <td>1</td>\n",
       "      <td>294.40</td>\n",
       "      <td>1</td>\n",
       "      <td>1</td>\n",
       "      <td>2</td>\n",
       "      <td>112</td>\n",
       "      <td>Hibernating</td>\n",
       "    </tr>\n",
       "    <tr>\n",
       "      <th>12352</th>\n",
       "      <td>37</td>\n",
       "      <td>5</td>\n",
       "      <td>1125.28</td>\n",
       "      <td>3</td>\n",
       "      <td>4</td>\n",
       "      <td>4</td>\n",
       "      <td>344</td>\n",
       "      <td>VIPs</td>\n",
       "    </tr>\n",
       "  </tbody>\n",
       "</table>\n",
       "</div>"
      ],
      "text/plain": [
       "            Recency  Frequency  Monetary  R_score  F_score  M_score RFM_score  \\\n",
       "CustomerID                                                                      \n",
       "12347             3          7   4310.00        5        5        5       555   \n",
       "12348            76          4   1437.24        2        3        4       234   \n",
       "12349            19          1   1457.55        4        1        4       414   \n",
       "12350           311          1    294.40        1        1        2       112   \n",
       "12352            37          5   1125.28        3        4        4       344   \n",
       "\n",
       "                        Segment  \n",
       "CustomerID                       \n",
       "12347                      VIPs  \n",
       "12348       Potential loyalists  \n",
       "12349             New customers  \n",
       "12350               Hibernating  \n",
       "12352                      VIPs  "
      ]
     },
     "execution_count": 45,
     "metadata": {},
     "output_type": "execute_result"
    }
   ],
   "source": [
    "rfm['Segment'] = rfm['Segment'].replace(segmentation, regex=True)\n",
    "rfm.head()"
   ]
  },
  {
   "cell_type": "code",
   "execution_count": 46,
   "metadata": {},
   "outputs": [
    {
     "data": {
      "text/html": [
       "<div>\n",
       "<style scoped>\n",
       "    .dataframe tbody tr th:only-of-type {\n",
       "        vertical-align: middle;\n",
       "    }\n",
       "\n",
       "    .dataframe tbody tr th {\n",
       "        vertical-align: top;\n",
       "    }\n",
       "\n",
       "    .dataframe thead tr th {\n",
       "        text-align: left;\n",
       "    }\n",
       "\n",
       "    .dataframe thead tr:last-of-type th {\n",
       "        text-align: right;\n",
       "    }\n",
       "</style>\n",
       "<table border=\"1\" class=\"dataframe\">\n",
       "  <thead>\n",
       "    <tr>\n",
       "      <th></th>\n",
       "      <th colspan=\"2\" halign=\"left\">Recency</th>\n",
       "      <th colspan=\"2\" halign=\"left\">Frequency</th>\n",
       "      <th colspan=\"4\" halign=\"left\">Monetary</th>\n",
       "    </tr>\n",
       "    <tr>\n",
       "      <th></th>\n",
       "      <th>mean</th>\n",
       "      <th>median</th>\n",
       "      <th>mean</th>\n",
       "      <th>median</th>\n",
       "      <th>mean</th>\n",
       "      <th>median</th>\n",
       "      <th>sum</th>\n",
       "      <th>count</th>\n",
       "    </tr>\n",
       "    <tr>\n",
       "      <th>Segment</th>\n",
       "      <th></th>\n",
       "      <th></th>\n",
       "      <th></th>\n",
       "      <th></th>\n",
       "      <th></th>\n",
       "      <th></th>\n",
       "      <th></th>\n",
       "      <th></th>\n",
       "    </tr>\n",
       "  </thead>\n",
       "  <tbody>\n",
       "    <tr>\n",
       "      <th>Good old frends</th>\n",
       "      <td>228</td>\n",
       "      <td>214</td>\n",
       "      <td>4</td>\n",
       "      <td>3</td>\n",
       "      <td>1038</td>\n",
       "      <td>689</td>\n",
       "      <td>87207</td>\n",
       "      <td>84</td>\n",
       "    </tr>\n",
       "    <tr>\n",
       "      <th>Hibernating</th>\n",
       "      <td>169</td>\n",
       "      <td>163</td>\n",
       "      <td>1</td>\n",
       "      <td>1</td>\n",
       "      <td>374</td>\n",
       "      <td>262</td>\n",
       "      <td>458919</td>\n",
       "      <td>1227</td>\n",
       "    </tr>\n",
       "    <tr>\n",
       "      <th>Need to focus</th>\n",
       "      <td>93</td>\n",
       "      <td>62</td>\n",
       "      <td>2</td>\n",
       "      <td>2</td>\n",
       "      <td>743</td>\n",
       "      <td>542</td>\n",
       "      <td>617996</td>\n",
       "      <td>832</td>\n",
       "    </tr>\n",
       "    <tr>\n",
       "      <th>New customers</th>\n",
       "      <td>18</td>\n",
       "      <td>19</td>\n",
       "      <td>1</td>\n",
       "      <td>1</td>\n",
       "      <td>304</td>\n",
       "      <td>227</td>\n",
       "      <td>63528</td>\n",
       "      <td>209</td>\n",
       "    </tr>\n",
       "    <tr>\n",
       "      <th>Potential loyalists</th>\n",
       "      <td>50</td>\n",
       "      <td>34</td>\n",
       "      <td>3</td>\n",
       "      <td>3</td>\n",
       "      <td>1240</td>\n",
       "      <td>970</td>\n",
       "      <td>1031344</td>\n",
       "      <td>832</td>\n",
       "    </tr>\n",
       "    <tr>\n",
       "      <th>VIPs</th>\n",
       "      <td>26</td>\n",
       "      <td>16</td>\n",
       "      <td>11</td>\n",
       "      <td>8</td>\n",
       "      <td>5702</td>\n",
       "      <td>2605</td>\n",
       "      <td>6066425</td>\n",
       "      <td>1064</td>\n",
       "    </tr>\n",
       "  </tbody>\n",
       "</table>\n",
       "</div>"
      ],
      "text/plain": [
       "                    Recency        Frequency        Monetary                  \\\n",
       "                       mean median      mean median     mean median      sum   \n",
       "Segment                                                                        \n",
       "Good old frends         228    214         4      3     1038    689    87207   \n",
       "Hibernating             169    163         1      1      374    262   458919   \n",
       "Need to focus            93     62         2      2      743    542   617996   \n",
       "New customers            18     19         1      1      304    227    63528   \n",
       "Potential loyalists      50     34         3      3     1240    970  1031344   \n",
       "VIPs                     26     16        11      8     5702   2605  6066425   \n",
       "\n",
       "                           \n",
       "                    count  \n",
       "Segment                    \n",
       "Good old frends        84  \n",
       "Hibernating          1227  \n",
       "Need to focus         832  \n",
       "New customers         209  \n",
       "Potential loyalists   832  \n",
       "VIPs                 1064  "
      ]
     },
     "execution_count": 46,
     "metadata": {},
     "output_type": "execute_result"
    }
   ],
   "source": [
    "rfm_segment = rfm.groupby('Segment').agg({'Recency': ['mean', 'median'], \n",
    "                                          'Frequency': ['mean', 'median'], \n",
    "                                          'Monetary': ['mean', 'median', 'sum', 'count']}).round(0).astype(int)\n",
    "rfm_segment"
   ]
  },
  {
   "cell_type": "code",
   "execution_count": 47,
   "metadata": {},
   "outputs": [
    {
     "data": {
      "text/plain": [
       "Segment\n",
       "Good old frends          84\n",
       "New customers           209\n",
       "Need to focus           832\n",
       "Potential loyalists     832\n",
       "VIPs                   1064\n",
       "Hibernating            1227\n",
       "Name: count, dtype: int32"
      ]
     },
     "execution_count": 47,
     "metadata": {},
     "output_type": "execute_result"
    }
   ],
   "source": [
    "segment_counts = rfm_segment['Monetary']['count'].sort_values(ascending = True)\n",
    "segment_counts"
   ]
  },
  {
   "cell_type": "code",
   "execution_count": 48,
   "metadata": {},
   "outputs": [
    {
     "data": {
      "text/plain": [
       "Segment\n",
       "New customers            63528\n",
       "Good old frends          87207\n",
       "Hibernating             458919\n",
       "Need to focus           617996\n",
       "Potential loyalists    1031344\n",
       "VIPs                   6066425\n",
       "Name: sum, dtype: int32"
      ]
     },
     "execution_count": 48,
     "metadata": {},
     "output_type": "execute_result"
    }
   ],
   "source": [
    "segment_monetary_sum = rfm_segment['Monetary']['sum'].sort_values(ascending = True)\n",
    "segment_monetary_sum"
   ]
  },
  {
   "cell_type": "code",
   "execution_count": 49,
   "metadata": {},
   "outputs": [],
   "source": [
    "def hbar(data):\n",
    "    \n",
    "    num_of_segment = len(data)\n",
    "    \n",
    "    ax.set_frame_on(False)\n",
    "    ax.set_yticks(range(num_of_segment))\n",
    "    ax.set_yticklabels(data.index)\n",
    "\n",
    "    bars = ax.barh(range(num_of_segment), data, color='silver')\n",
    "\n",
    "    for i, bar in enumerate(bars):\n",
    "            value = bar.get_width()\n",
    "            if data.index[i] in ['VIPs']:\n",
    "                bar.set_color('firebrick')\n",
    "            ax.text(value,\n",
    "                    bar.get_y() + bar.get_height()/2,\n",
    "                    '{:,} ({:}%)'.format(int(value),int(value*100/data.sum())),\n",
    "                    va='center',\n",
    "                    ha='left')"
   ]
  },
  {
   "cell_type": "code",
   "execution_count": 50,
   "metadata": {},
   "outputs": [
    {
     "data": {
      "image/png": "[encoded data removed]",
      "text/plain": [
       "<Figure size 432x288 with 1 Axes>"
      ]
     },
     "metadata": {
      "needs_background": "light"
     },
     "output_type": "display_data"
    }
   ],
   "source": [
    "fig, ax = plt.subplots()\n",
    "hbar(segment_counts)\n",
    "plt.show()"
   ]
  },
  {
   "cell_type": "code",
   "execution_count": 51,
   "metadata": {},
   "outputs": [
    {
     "data": {
      "image/png": "[encoded data removed]",
      "text/plain": [
       "<Figure size 432x288 with 1 Axes>"
      ]
     },
     "metadata": {
      "needs_background": "light"
     },
     "output_type": "display_data"
    }
   ],
   "source": [
    "fig, ax = plt.subplots()\n",
    "hbar(segment_monetary_sum)\n",
    "plt.show()"
   ]
  },
  {
   "cell_type": "markdown",
   "metadata": {},
   "source": [
    "#### Short Summary:\n",
    "- VIPs are the champian, which contributes the most, but it only contributes 25% of our total customers.\n",
    "- Hibernating group has a lot of people (28%). Although they didn't make any recent purchase within 180 days, it accumulated moderate income. However, since we don't know them much, it's better to investigate why they only purchased once and left.\n",
    "- We don't see many new customers joining in (4%), so the customer base is relatively stable.\n",
    "- It's good to see we don't have too many people in the \"Good old friends\" group, which means those who purchased more than three times tend to stay and keep buying within 180 days cycle."
   ]
  },
  {
   "cell_type": "markdown",
   "metadata": {},
   "source": [
    "### Let's take a look at what RFM segment are the interested CustomerID (15344, 12433, 17841) in?"
   ]
  },
  {
   "cell_type": "code",
   "execution_count": 52,
   "metadata": {},
   "outputs": [
    {
     "data": {
      "text/plain": [
       "Recency                        1\n",
       "Frequency                      3\n",
       "Monetary                  476.58\n",
       "R_score                        5\n",
       "F_score                        3\n",
       "M_score                        2\n",
       "RFM_score                    532\n",
       "Segment      Potential loyalists\n",
       "Name: 15344, dtype: object"
      ]
     },
     "execution_count": 52,
     "metadata": {},
     "output_type": "execute_result"
    }
   ],
   "source": [
    "rfm.loc[15344]"
   ]
  },
  {
   "cell_type": "code",
   "execution_count": 53,
   "metadata": {},
   "outputs": [
    {
     "data": {
      "text/plain": [
       "Recency            1\n",
       "Frequency          7\n",
       "Monetary     13375.9\n",
       "R_score            5\n",
       "F_score            5\n",
       "M_score            5\n",
       "RFM_score        555\n",
       "Segment         VIPs\n",
       "Name: 12433, dtype: object"
      ]
     },
     "execution_count": 53,
     "metadata": {},
     "output_type": "execute_result"
    }
   ],
   "source": [
    "rfm.loc[12433]"
   ]
  },
  {
   "cell_type": "code",
   "execution_count": 54,
   "metadata": {},
   "outputs": [
    {
     "data": {
      "text/plain": [
       "Recency            2\n",
       "Frequency        124\n",
       "Monetary     37553.1\n",
       "R_score            5\n",
       "F_score            5\n",
       "M_score            5\n",
       "RFM_score        555\n",
       "Segment         VIPs\n",
       "Name: 17841, dtype: object"
      ]
     },
     "execution_count": 54,
     "metadata": {},
     "output_type": "execute_result"
    }
   ],
   "source": [
    "rfm.loc[17841]"
   ]
  },
  {
   "cell_type": "markdown",
   "metadata": {},
   "source": [
    "## Possible Improvements\n",
    "\n",
    "1. RFM offers an intuitive way for segmentation, i.e., recency, frequency, and monetary values of the customers, which is easy to interpret by marketers. Marketers may use other techniques in customer segmentation such as K-means clustering, random forest. However, they are computationally expensive and hard to update the model on the fly. Therefore, for simplicity, the RFM model is still powerful in most cases.\n",
    "2. The models can be more complex if we have more data, such as users' demographic data. Then, demographic, psychographic, behavioral, and geographic segmentation can come into play.\n",
    "3. If we can run campaigns by preset AI, then we can have granular segmentation. Otherwise, we want to keep the numbers of the segments that can be run and controlled by marketers. "
   ]
  },
  {
   "cell_type": "markdown",
   "metadata": {},
   "source": [
    "# (2) Recommendation"
   ]
  },
  {
   "cell_type": "markdown",
   "metadata": {},
   "source": [
    "Collaborative filtering (CF) is taking users' ratings to catalog items (implicitly or explicitly). The basic assumption of collaborative filtering is that customers who had similar tastes in the past will have similar tastes in the future."
   ]
  },
  {
   "cell_type": "markdown",
   "metadata": {},
   "source": [
    "Since we don't have the ratings or likes in this data set, instead of using `explicit collaborative filtering`, we need to use `implicit collaborative filtering`. `Implicit collaborative filtering` uses data with non-obvious features, such as clicks, views, or purchases, which is the case of this dataset.\n",
    "\n",
    "Ref: \"Collaborative Filtering for Implicit Feedback Datasets\" by Hu, Koren, and Volinsky."
   ]
  },
  {
   "cell_type": "code",
   "execution_count": 55,
   "metadata": {},
   "outputs": [],
   "source": [
    "# The purchase quantity represents the confidence of preference.\n",
    "rec_data = df_keep_no_CustomerID.groupby(['CustomerID','StockCode','Description'], as_index = False).agg({'Quantity': 'sum'})\n",
    "rec_data['CustomerID'] = rec_data['CustomerID'].astype(\"category\")\n",
    "rec_data['StockCode'] = rec_data['StockCode'].astype(\"category\")\n",
    "rec_data['user'] = rec_data['CustomerID'].cat.codes\n",
    "rec_data['item'] = rec_data['StockCode'].cat.codes\n",
    "\n",
    "# Get unique customers\n",
    "users = list(np.sort(rec_data['CustomerID'].unique()))\n",
    "\n",
    "# Create Sparse Matrix to save memeories (because most cells are empty)\n",
    "rec_sparse_item_user = scipy.sparse.csr_matrix((rec_data['Quantity'], (rec_data['item'], rec_data['user'])))"
   ]
  },
  {
   "cell_type": "code",
   "execution_count": 56,
   "metadata": {},
   "outputs": [
    {
     "data": {
      "text/html": [
       "<div>\n",
       "<style scoped>\n",
       "    .dataframe tbody tr th:only-of-type {\n",
       "        vertical-align: middle;\n",
       "    }\n",
       "\n",
       "    .dataframe tbody tr th {\n",
       "        vertical-align: top;\n",
       "    }\n",
       "\n",
       "    .dataframe thead th {\n",
       "        text-align: right;\n",
       "    }\n",
       "</style>\n",
       "<table border=\"1\" class=\"dataframe\">\n",
       "  <thead>\n",
       "    <tr style=\"text-align: right;\">\n",
       "      <th></th>\n",
       "      <th>CustomerID</th>\n",
       "      <th>StockCode</th>\n",
       "      <th>Description</th>\n",
       "      <th>Quantity</th>\n",
       "      <th>user</th>\n",
       "      <th>item</th>\n",
       "    </tr>\n",
       "  </thead>\n",
       "  <tbody>\n",
       "    <tr>\n",
       "      <th>0</th>\n",
       "      <td>12347</td>\n",
       "      <td>16008</td>\n",
       "      <td>SMALL FOLDING SCISSOR(POINTED EDGE)</td>\n",
       "      <td>24</td>\n",
       "      <td>0</td>\n",
       "      <td>11</td>\n",
       "    </tr>\n",
       "    <tr>\n",
       "      <th>1</th>\n",
       "      <td>12347</td>\n",
       "      <td>17021</td>\n",
       "      <td>NAMASTE SWAGAT INCENSE</td>\n",
       "      <td>36</td>\n",
       "      <td>0</td>\n",
       "      <td>38</td>\n",
       "    </tr>\n",
       "    <tr>\n",
       "      <th>2</th>\n",
       "      <td>12347</td>\n",
       "      <td>20665</td>\n",
       "      <td>RED RETROSPOT PURSE</td>\n",
       "      <td>6</td>\n",
       "      <td>0</td>\n",
       "      <td>60</td>\n",
       "    </tr>\n",
       "    <tr>\n",
       "      <th>3</th>\n",
       "      <td>12347</td>\n",
       "      <td>20719</td>\n",
       "      <td>WOODLAND CHARLOTTE BAG</td>\n",
       "      <td>40</td>\n",
       "      <td>0</td>\n",
       "      <td>96</td>\n",
       "    </tr>\n",
       "    <tr>\n",
       "      <th>4</th>\n",
       "      <td>12347</td>\n",
       "      <td>20780</td>\n",
       "      <td>BLACK EAR MUFF HEADPHONES</td>\n",
       "      <td>12</td>\n",
       "      <td>0</td>\n",
       "      <td>136</td>\n",
       "    </tr>\n",
       "  </tbody>\n",
       "</table>\n",
       "</div>"
      ],
      "text/plain": [
       "  CustomerID StockCode                          Description  Quantity  user  \\\n",
       "0      12347     16008  SMALL FOLDING SCISSOR(POINTED EDGE)        24     0   \n",
       "1      12347     17021               NAMASTE SWAGAT INCENSE        36     0   \n",
       "2      12347     20665                  RED RETROSPOT PURSE         6     0   \n",
       "3      12347     20719               WOODLAND CHARLOTTE BAG        40     0   \n",
       "4      12347     20780            BLACK EAR MUFF HEADPHONES        12     0   \n",
       "\n",
       "   item  \n",
       "0    11  \n",
       "1    38  \n",
       "2    60  \n",
       "3    96  \n",
       "4   136  "
      ]
     },
     "execution_count": 56,
     "metadata": {},
     "output_type": "execute_result"
    }
   ],
   "source": [
    "rec_data.head()"
   ]
  },
  {
   "cell_type": "code",
   "execution_count": 57,
   "metadata": {},
   "outputs": [
    {
     "name": "stdout",
     "output_type": "stream",
     "text": [
      "sparsity =  0.9821996136270457\n"
     ]
    }
   ],
   "source": [
    "# Sparsity\n",
    "num_of_possible_interaction = np.prod(rec_sparse_item_user.shape)\n",
    "num_of_interactions = len(rec_sparse_item_user.nonzero()[0])\n",
    "print(\"sparsity = \", 1 - num_of_interactions / num_of_possible_interaction)"
   ]
  },
  {
   "cell_type": "markdown",
   "metadata": {},
   "source": [
    "### Use `implicit` to build a collaborative filtering model"
   ]
  },
  {
   "cell_type": "markdown",
   "metadata": {},
   "source": [
    "Ben Frederickson created `implicit` library (https://github.com/benfred/implicit) for implicit collaborative filtering.\n",
    "\n",
    "The code reports the top 10 recommendation items."
   ]
  },
  {
   "cell_type": "code",
   "execution_count": 58,
   "metadata": {},
   "outputs": [],
   "source": [
    "import os\n",
    "os.environ[\"MKL_NUM_THREADS\"] = \"1\" # export MKL_NUM_THREADS=1"
   ]
  },
  {
   "cell_type": "code",
   "execution_count": 59,
   "metadata": {},
   "outputs": [
    {
     "name": "stderr",
     "output_type": "stream",
     "text": [
      "100%|████████████████████████████████████████████████████████████████████████████████| 50.0/50 [00:05<00:00,  9.09it/s]\n"
     ]
    }
   ],
   "source": [
    "# Initialize the AlternatingLeastSquares (ALS) model\n",
    "model = implicit.als.AlternatingLeastSquares(factors = 20, regularization = 0.1, iterations = 50)\n",
    "\n",
    "# Calculate the confidence by multiplying it by alpha value\n",
    "# http://yifanhu.net/PUB/cf.pdf\n",
    "alpha = 15\n",
    "rec_conf = (rec_sparse_item_user * alpha).astype('double')\n",
    "\n",
    "# Fit the model\n",
    "model.fit(rec_conf)"
   ]
  },
  {
   "cell_type": "code",
   "execution_count": 60,
   "metadata": {},
   "outputs": [],
   "source": [
    "# helper functions - cannot move places because they need rec_date, model ready\n",
    "\n",
    "def get_rec_items(user_id):\n",
    "    # recommend items for a user\n",
    "    user_items = rec_sparse_item_user.T.tocsr()\n",
    "    recommendations = model.recommend(users.index(user_id), user_items)\n",
    "    \n",
    "    rec_items = [i[0] for i in recommendations]\n",
    "    \n",
    "    descriptions = []\n",
    "    \n",
    "    for i in rec_items:\n",
    "        descriptions.extend(rec_data[rec_data['item'] == i]['Description'].astype('str').unique())\n",
    "\n",
    "    return descriptions\n",
    "    \n",
    "def get_previous_items(user_id):\n",
    "    return rec_data[rec_data['user'] == users.index(user_id)]['Description'].astype('str').unique().tolist()\n",
    "\n",
    "def is_rec_in_previous_items(user_id):\n",
    "    # Recommendation items are not in the previous purchase list\n",
    "    return set(get_rec_items(user_id)).issubset(get_previous_items(user_id))"
   ]
  },
  {
   "cell_type": "markdown",
   "metadata": {},
   "source": [
    "### 1. Study on CustomerID = 17841"
   ]
  },
  {
   "cell_type": "code",
   "execution_count": 61,
   "metadata": {},
   "outputs": [
    {
     "data": {
      "text/plain": [
       "['IVORY LOVE BIRD CANDLE',\n",
       " 'TEATIME GEL PENS ASST',\n",
       " 'TOAST ITS - HAPPY BIRTHDAY',\n",
       " 'EDWARDIAN PARASOL PINK',\n",
       " 'RECYCLED ACAPULCO MAT PINK',\n",
       " 'SET OF 2 ROUND TINS CAMEMBERT',\n",
       " 'SET OF 4 ROSE BOTANICAL CANDLES',\n",
       " 'CLAM SHELL SMALL',\n",
       " 'BLUE POLKADOT KIDS BAG',\n",
       " 'RETRO PLASTIC DAISY TRAY']"
      ]
     },
     "execution_count": 61,
     "metadata": {},
     "output_type": "execute_result"
    }
   ],
   "source": [
    "get_rec_items(17841)"
   ]
  },
  {
   "cell_type": "code",
   "execution_count": 62,
   "metadata": {},
   "outputs": [
    {
     "data": {
      "text/plain": [
       "1321"
      ]
     },
     "execution_count": 62,
     "metadata": {},
     "output_type": "execute_result"
    }
   ],
   "source": [
    "len(get_previous_items(17841))"
   ]
  },
  {
   "cell_type": "code",
   "execution_count": 63,
   "metadata": {},
   "outputs": [],
   "source": [
    "#get_previous_items(17841) # list is long, so commentted it"
   ]
  },
  {
   "cell_type": "code",
   "execution_count": 64,
   "metadata": {},
   "outputs": [
    {
     "data": {
      "text/plain": [
       "False"
      ]
     },
     "execution_count": 64,
     "metadata": {},
     "output_type": "execute_result"
    }
   ],
   "source": [
    "is_rec_in_previous_items(17841)"
   ]
  },
  {
   "cell_type": "markdown",
   "metadata": {},
   "source": [
    "#### Summary of CustomerID = 17841\n",
    "\n",
    "It seems this customer is interested in cooking, parties, and household/office kinds of stuff. This customer bought 1321 different items previously, and some of the items are pretty similar but with different styles. It seems like the customer is a reseller. The recommendation pattern is not obvious because the purchase history is not obvious too.\n",
    "\n",
    "- Customer persona: a reseller (buy things on the website and sell to others)"
   ]
  },
  {
   "cell_type": "markdown",
   "metadata": {},
   "source": [
    "### 2. Study on CustomerID = 12433"
   ]
  },
  {
   "cell_type": "code",
   "execution_count": 65,
   "metadata": {},
   "outputs": [
    {
     "data": {
      "text/plain": [
       "['FRIDGE MAGNETS LA VIE EN ROSE',\n",
       " 'FRIDGE MAGNETS LES ENFANTS ASSORTED',\n",
       " 'ASSORTED BOTTLE TOP MAGNETS',\n",
       " 'SET OF 5 MINI GROCERY MAGNETS',\n",
       " 'SET OF 4 JAM JAR MAGNETS',\n",
       " 'RED DINER WALL CLOCK',\n",
       " 'KINGS CHOICE MUG',\n",
       " 'RETRO COFFEE MUGS ASSORTED',\n",
       " 'IVORY DINER WALL CLOCK',\n",
       " 'SET OF 5 LUCKY CAT MAGNETS']"
      ]
     },
     "execution_count": 65,
     "metadata": {},
     "output_type": "execute_result"
    }
   ],
   "source": [
    "get_rec_items(12433)"
   ]
  },
  {
   "cell_type": "code",
   "execution_count": 66,
   "metadata": {},
   "outputs": [
    {
     "data": {
      "text/plain": [
       "['PAPER POCKET TRAVELING FAN',\n",
       " 'ASSORTED COLOURS SILK FAN',\n",
       " 'SMALL FOLDING SCISSOR(POINTED EDGE)',\n",
       " 'SMALL CHINESE STYLE SCISSOR',\n",
       " 'LARGE CHINESE STYLE SCISSOR',\n",
       " 'PORCELAIN BUDAH INCENSE HOLDER',\n",
       " 'RED RETROSPOT PURSE',\n",
       " 'EDWARDIAN PARASOL RED',\n",
       " 'DOORMAT RED RETROSPOT',\n",
       " 'SET/5 RED RETROSPOT LID GLASS BOWLS',\n",
       " 'VINTAGE BILLBOARD LOVE/HATE MUG',\n",
       " 'SET/20 RED RETROSPOT PAPER NAPKINS',\n",
       " 'RED RETROSPOT OVEN GLOVE',\n",
       " 'RETROSPOT CHILDRENS APRON',\n",
       " 'MOODY GIRL DOOR HANGER',\n",
       " 'MOODY BOY DOOR HANGER',\n",
       " 'TOXIC AREA DOOR HANGER',\n",
       " 'BEWARE OF THE CAT METAL SIGN',\n",
       " 'COOK WITH WINE METAL SIGN',\n",
       " \"YOU'RE CONFUSING ME METAL SIGN\",\n",
       " 'GIN + TONIC DIET METAL SIGN',\n",
       " 'GIN AND TONIC DIET METAL SIGN',\n",
       " 'PLEASE ONE PERSON METAL SIGN',\n",
       " 'PACK OF 72 RETROSPOT CAKE CASES',\n",
       " 'PACK OF 72 SKULL CAKE CASES',\n",
       " 'SET 3 RETROSPOT TEACOFFEESUGAR',\n",
       " 'RED RETROSPOT ROUND CAKE TINS',\n",
       " 'RED SPOTTY BISCUIT TIN',\n",
       " 'DOOR HANGER MUM + DADS ROOM',\n",
       " 'FIRST AID TIN',\n",
       " 'WHITE SKULL HOT WATER BOTTLE',\n",
       " 'FAWN BLUE HOT WATER BOTTLE',\n",
       " 'RETROSPOT HEART HOT WATER BOTTLE',\n",
       " 'FANCY FONT BIRTHDAY CARD',\n",
       " 'BOOZE & WOMEN GREETING CARD',\n",
       " 'RETROSPOT LARGE MILK JUG',\n",
       " 'RETROSPOT SMALL TUBE MATCHES',\n",
       " 'RETROSPOT CIGAR BOX MATCHES',\n",
       " 'RED STRIPE CERAMIC DRAWER KNOB',\n",
       " 'BLUE STRIPE CERAMIC DRAWER KNOB',\n",
       " 'BLUE SPOT CERAMIC DRAWER KNOB',\n",
       " 'RED SPOT CERAMIC DRAWER KNOB',\n",
       " 'WHITE SPOT RED CERAMIC DRAWER KNOB',\n",
       " 'RED HANGING HEART T-LIGHT HOLDER',\n",
       " 'OPEN CLOSED METAL SIGN',\n",
       " 'POLKADOT RAIN HAT',\n",
       " 'I CAN ONLY PLEASE ONE PERSON MUG',\n",
       " 'SAVE THE PLANET MUG',\n",
       " 'GLAMOROUS MUG',\n",
       " \"IF YOU CAN'T STAND THE HEAT MUG\",\n",
       " 'GIN AND TONIC MUG',\n",
       " 'HOME SWEET HOME MUG',\n",
       " 'CHOCOLATE THIS WAY METAL SIGN',\n",
       " 'PACK OF 12 SKULL TISSUES',\n",
       " 'PACK OF 60 PINK PAISLEY CAKE CASES',\n",
       " 'PACK OF 12 RED RETROSPOT TISSUES',\n",
       " 'PACK OF 12 WOODLAND TISSUES',\n",
       " 'PACK OF 12 SUKI TISSUES',\n",
       " 'PACK OF 12 BLUE PAISLEY TISSUES',\n",
       " 'PACK OF 12 PINK PAISLEY TISSUES',\n",
       " 'BLUE PAISLEY TISSUE BOX',\n",
       " 'RED RETROSPOT TISSUE BOX',\n",
       " 'LADS ONLY TISSUE BOX',\n",
       " 'BOUDOIR SQUARE TISSUE BOX',\n",
       " 'CHOCOLATE HOT WATER BOTTLE',\n",
       " 'HOT WATER BOTTLE TEA AND SYMPATHY',\n",
       " 'SNOWSTORM PHOTO FRAME FRIDGE MAGNET',\n",
       " 'POPCORN HOLDER',\n",
       " 'SMALL POPCORN HOLDER',\n",
       " 'LARGE POPCORN HOLDER',\n",
       " 'FRYING PAN RED RETROSPOT',\n",
       " 'FRYING PAN PINK POLKADOT',\n",
       " 'FRYING PAN BLUE POLKADOT',\n",
       " 'TEA COSY BLUE STRIPE',\n",
       " 'TEA COSY RED STRIPE',\n",
       " '200 RED + WHITE BENDY STRAWS',\n",
       " 'TEA BAG PLATE RED RETROSPOT',\n",
       " 'METAL SIGN TAKE IT OR LEAVE IT',\n",
       " 'GROW YOUR OWN PLANT IN A CAN',\n",
       " 'GUMBALL COAT RACK',\n",
       " 'PACK OF 12 TRADITIONAL CRAYONS',\n",
       " 'EMERGENCY FIRST AID TIN',\n",
       " 'MAGIC DRAWING SLATE DOLLY GIRL',\n",
       " 'MAGIC DRAWING SLATE CIRCUS PARADE',\n",
       " 'MAGIC DRAWING SLATE SPACEBOY',\n",
       " 'MINI JIGSAW DOLLY GIRL',\n",
       " 'MINI JIGSAW CIRCUS PARADE',\n",
       " 'MINI JIGSAW BAKE A CAKE',\n",
       " 'MINI JIGSAW SPACEBOY',\n",
       " 'MINI JIGSAW DINOSAUR',\n",
       " 'PLASTERS IN TIN SPACEBOY',\n",
       " 'PLASTERS IN TIN SKULLS',\n",
       " 'PLASTERS IN TIN WOODLAND ANIMALS',\n",
       " 'PLASTERS IN TIN STRONGMAN',\n",
       " 'PLASTERS IN TIN CIRCUS PARADE',\n",
       " 'PLASTERS IN TIN VINTAGE PAISLEY',\n",
       " 'CLOTHES PEGS RETROSPOT PACK 24',\n",
       " 'WOODEN SCHOOL COLOURING SET',\n",
       " '20 DOLLY PEGS RETROSPOT',\n",
       " 'PACK OF 12 SPACEBOY TISSUES',\n",
       " 'PACK OF 12 CIRCUS PARADE TISSUES',\n",
       " 'IVORY KITCHEN SCALES',\n",
       " 'RED KITCHEN SCALES',\n",
       " 'BLACK KITCHEN SCALES',\n",
       " 'PICNIC BOXES SET OF 3 RETROSPOT',\n",
       " 'DOLLY GIRL LUNCH BOX',\n",
       " 'CIRCUS PARADE LUNCH BOX',\n",
       " 'HAND WARMER RED RETROSPOT',\n",
       " 'TRAVEL SEWING KIT',\n",
       " 'LUNCH BOX I LOVE LONDON',\n",
       " 'RECIPE BOX BLUE SKETCHBOOK DESIGN',\n",
       " 'RECIPE BOX PANTRY YELLOW DESIGN',\n",
       " 'RECIPE BOX RETROSPOT',\n",
       " 'FRENCH WC SIGN BLUE METAL',\n",
       " 'DOORMAT PEACE ON EARTH BLUE',\n",
       " 'DOORMAT HOME SWEET HOME BLUE',\n",
       " 'GROW A FLYTRAP OR SUNFLOWER IN TIN',\n",
       " 'CARD CIRCUS PARADE',\n",
       " 'SET OF 3 CAKE TINS PANTRY DESIGN',\n",
       " 'SET OF 6 SPICE TINS PANTRY DESIGN',\n",
       " 'ALARM CLOCK BAKELIKE GREEN',\n",
       " 'ALARM CLOCK BAKELIKE RED',\n",
       " 'ALARM CLOCK BAKELIKE PINK',\n",
       " 'ALARM CLOCK BAKELIKE IVORY',\n",
       " 'CLEAR DRAWER KNOB ACRYLIC EDWARDIAN',\n",
       " 'PINK DRAWER KNOB ACRYLIC EDWARDIAN',\n",
       " 'GREEN DRAWER KNOB ACRYLIC EDWARDIAN',\n",
       " 'CARD PARTY GAMES',\n",
       " 'HOT WATER BOTTLE I AM SO POORLY',\n",
       " 'BISCUIT TIN VINTAGE RED',\n",
       " 'BREAD BIN DINER STYLE IVORY',\n",
       " 'BREAD BIN DINER STYLE PINK',\n",
       " 'HAND WARMER OWL DESIGN',\n",
       " 'HAND WARMER SCOTTY DOG DESIGN',\n",
       " \"CHILDREN'S APRON DOLLY GIRL\",\n",
       " 'YELLOW COAT RACK PARIS FASHION',\n",
       " 'RED COAT RACK PARIS FASHION',\n",
       " 'BLUE COAT RACK PARIS FASHION',\n",
       " 'FRIDGE MAGNETS US DINER ASSORTED',\n",
       " '36 FOIL HEART CAKE CASES',\n",
       " 'JAM MAKING SET PRINTED',\n",
       " 'JAM JAR WITH PINK LID',\n",
       " 'JAM JAR WITH GREEN LID',\n",
       " 'GINGERBREAD MAN COOKIE CUTTER',\n",
       " 'PANTRY WASHING UP BRUSH',\n",
       " 'TRAVEL CARD WALLET RETROSPOT',\n",
       " 'TRAVEL CARD WALLET KEEP CALM',\n",
       " 'TRAVEL CARD WALLET TRANSPORT',\n",
       " 'TRAVEL CARD WALLET SKULLS',\n",
       " 'TRAVEL CARD WALLET PANTRY',\n",
       " 'GEORGIAN TRINKET BOX',\n",
       " 'PARISIENNE JEWELLERY DRAWER',\n",
       " 'LARGE CERAMIC TOP STORAGE JAR',\n",
       " 'MEDIUM CERAMIC TOP STORAGE JAR',\n",
       " 'SMALL CERAMIC TOP STORAGE JAR',\n",
       " 'CLASSIC CAFE SUGAR DISPENSER',\n",
       " 'CLASSIC GLASS COOKIE JAR',\n",
       " 'BULL DOG BOTTLE OPENER',\n",
       " 'FRENCH STYLE STORAGE JAR BONBONS',\n",
       " 'SKETCHBOOK MAGNETIC SHOPPING LIST',\n",
       " 'PANTRY MAGNETIC SHOPPING LIST',\n",
       " 'STORAGE TIN VINTAGE DOILY',\n",
       " 'SET OF 4 KNICK KNACK TINS DOILY',\n",
       " 'SET OF TEA COFFEE SUGAR TINS PANTRY',\n",
       " 'SET OF 3 REGENCY CAKE TINS',\n",
       " \"BISCUIT TIN 50'S CHRISTMAS\",\n",
       " 'PINK VINTAGE SPOT BEAKER',\n",
       " 'BLUE VINTAGE SPOT BEAKER',\n",
       " 'RED VINTAGE SPOT BEAKER',\n",
       " 'GREEN VINTAGE SPOT BEAKER',\n",
       " 'SET OF 12 FAIRY CAKE BAKING CASES',\n",
       " 'SET OF 60 PANTRY DESIGN CAKE CASES',\n",
       " 'HOT WATER BOTTLE KEEP CALM',\n",
       " 'HOT WATER BOTTLE SEX BOMB',\n",
       " 'HOT STUFF HOT WATER BOTTLE',\n",
       " 'SET 12 COLOURING PENCILS DOILY',\n",
       " 'IVORY RETRO KITCHEN WALL CLOCK',\n",
       " 'RED RETRO KITCHEN WALL CLOCK',\n",
       " 'BLUE RETRO KITCHEN WALL CLOCK',\n",
       " 'VINTAGE DOILY TRAVEL SEWING KIT',\n",
       " 'VINTAGE DOILY DELUXE SEWING KIT',\n",
       " 'PLAYING CARDS VINTAGE DOILY',\n",
       " 'PLAYING CARDS KEEP CALM & CARRY ON',\n",
       " 'MINI PLAYING CARDS DOLLY GIRL',\n",
       " 'MINI PLAYING CARDS FUN FAIR',\n",
       " 'WALL ART ONLY ONE PERSON',\n",
       " 'WALL ART STOP FOR TEA',\n",
       " 'WALL ART KEEP CALM',\n",
       " 'TRADITIONAL NAUGHTS & CROSSES',\n",
       " 'TEA TIME TEAPOT IN GIFT BOX',\n",
       " 'FENG SHUI PILLAR CANDLE',\n",
       " 'TOILET METAL SIGN',\n",
       " 'N0 SINGING METAL SIGN',\n",
       " 'NO SINGING METAL SIGN',\n",
       " 'PINK HEART SHAPE EGG FRYING PAN',\n",
       " 'SET OF 20 KIDS COOKIE CUTTERS',\n",
       " 'NEW BAROQUE JEWELLERY BOX',\n",
       " 'BOX OF 24 COCKTAIL PARASOLS',\n",
       " '60 TEATIME FAIRY CAKE CASES',\n",
       " '72 SWEETHEART FAIRY CAKE CASES',\n",
       " 'LADIES & GENTLEMEN METAL SIGN',\n",
       " 'HAND OVER THE CHOCOLATE  SIGN',\n",
       " 'EDWARDIAN PARASOL BLACK',\n",
       " 'EDWARDIAN PARASOL NATURAL',\n",
       " 'FAIRY CAKE DESIGN UMBRELLA',\n",
       " 'VANILLA INCENSE IN TIN',\n",
       " 'HAND OPEN SHAPE GOLD',\n",
       " 'IVORY STRING CURTAIN WITH POLE',\n",
       " 'PINK STRING CURTAIN WITH POLE',\n",
       " 'ASS FLORAL PRINT MULTI SCREWDRIVER',\n",
       " 'ENGLISH ROSE SPIRIT LEVEL',\n",
       " 'TEA TIME OVEN GLOVE',\n",
       " 'VINTAGE CREAM 3 BASKET CAKE STAND',\n",
       " 'RED WOOLLY HOTTIE WHITE HEART',\n",
       " 'SET OF 4 ENGLISH ROSE COASTERS',\n",
       " 'FAIRY CAKES NOTEBOOK A6 SIZE',\n",
       " 'SMALL DOLLY MIX DESIGN ORANGE BOWL',\n",
       " 'SMALL MARSHMALLOWS PINK BOWL',\n",
       " 'SMALL CHOCOLATES PINK BOWL',\n",
       " 'BLACK/BLUE POLKADOT UMBRELLA',\n",
       " 'RED RETROSPOT UMBRELLA',\n",
       " 'SET/3 DECOUPAGE STACKING TINS']"
      ]
     },
     "execution_count": 66,
     "metadata": {},
     "output_type": "execute_result"
    }
   ],
   "source": [
    "get_previous_items(12433)"
   ]
  },
  {
   "cell_type": "code",
   "execution_count": 67,
   "metadata": {},
   "outputs": [
    {
     "data": {
      "text/plain": [
       "False"
      ]
     },
     "execution_count": 67,
     "metadata": {},
     "output_type": "execute_result"
    }
   ],
   "source": [
    "is_rec_in_previous_items(12433)"
   ]
  },
  {
   "cell_type": "markdown",
   "metadata": {},
   "source": [
    "#### Summary of CustomerID = 12433\n",
    "\n",
    "It seems this customer is interested in kitchen and household accessories. This customer has bought 222 different items, and some of the items are similar but just in different styles. The recommendations are matched with the previous orders.\n",
    "\n",
    "- Customer persona: kitchen and household accessories resellers"
   ]
  },
  {
   "cell_type": "markdown",
   "metadata": {},
   "source": [
    "### 3. Study on CustomerID = 15344"
   ]
  },
  {
   "cell_type": "code",
   "execution_count": 68,
   "metadata": {},
   "outputs": [
    {
     "data": {
      "text/plain": [
       "['METAL 4 HOOK HANGER FRENCH CHATEAU',\n",
       " 'LOVEBIRD HANGING DECORATION WHITE',\n",
       " 'HOME SWEET HOME BLACKBOARD',\n",
       " 'WOODEN PICTURE FRAME WHITE FINISH',\n",
       " 'WOODEN STAR CHRISTMAS SCANDINAVIAN',\n",
       " 'DOORSTOP RETROSPOT HEART',\n",
       " 'REGENCY TEA PLATE GREEN',\n",
       " 'PARISIENNE KEY CABINET',\n",
       " 'PAINTED METAL STAR WITH HOLLY BELLS',\n",
       " 'REGENCY TEA PLATE ROSES']"
      ]
     },
     "execution_count": 68,
     "metadata": {},
     "output_type": "execute_result"
    }
   ],
   "source": [
    "get_rec_items(15344)"
   ]
  },
  {
   "cell_type": "code",
   "execution_count": 69,
   "metadata": {},
   "outputs": [
    {
     "data": {
      "text/plain": [
       "['DARK BIRD HOUSE TREE DECORATION',\n",
       " 'CLASSIC METAL BIRDCAGE PLANT HOLDER',\n",
       " 'HOME BUILDING BLOCK WORD',\n",
       " 'WALL MIRROR RECTANGLE DIAMANTE PINK',\n",
       " 'REGENCY CAKESTAND 3 TIER',\n",
       " 'IVORY KITCHEN SCALES',\n",
       " 'GREEN REGENCY TEACUP AND SAUCER',\n",
       " 'PINK REGENCY TEACUP AND SAUCER',\n",
       " 'SET OF TEA COFFEE SUGAR TINS PANTRY',\n",
       " 'SET OF 3 REGENCY CAKE TINS',\n",
       " 'RUSTIC MIRROR WITH LACE HEART',\n",
       " 'LETTER HOLDER HOME SWEET HOME',\n",
       " 'PHOTO FRAME LINEN AND LACE SMALL',\n",
       " 'GINGHAM RECIPE BOOK BOX',\n",
       " 'METAL SIGN DROP YOUR PANTS',\n",
       " 'NATURAL HANGING QUILTED HEARTS',\n",
       " 'DOORMAT NEW ENGLAND',\n",
       " 'DOORMAT HEARTS',\n",
       " '3 DRAWER ANTIQUE WHITE WOOD CABINET',\n",
       " 'CREAM SWEETHEART MINI CHEST']"
      ]
     },
     "execution_count": 69,
     "metadata": {},
     "output_type": "execute_result"
    }
   ],
   "source": [
    "get_previous_items(15344)"
   ]
  },
  {
   "cell_type": "code",
   "execution_count": 70,
   "metadata": {},
   "outputs": [
    {
     "data": {
      "text/plain": [
       "False"
      ]
     },
     "execution_count": 70,
     "metadata": {},
     "output_type": "execute_result"
    }
   ],
   "source": [
    "is_rec_in_previous_items(15344)"
   ]
  },
  {
   "cell_type": "markdown",
   "metadata": {},
   "source": [
    "#### Summary of CustomerID = 15344\n",
    "\n",
    "It seems this customer is interested in home decoration and some teaware/coffeeware. The recommendations are matched with the previous orders.\n",
    "\n",
    "- Customer persona: stay-at-home-mom who pay attention to the living quality"
   ]
  },
  {
   "cell_type": "markdown",
   "metadata": {},
   "source": [
    "### Other recommendations?\n",
    "\n",
    "- It's never wrong to recommend the overall popular items!!! "
   ]
  },
  {
   "cell_type": "code",
   "execution_count": 71,
   "metadata": {},
   "outputs": [
    {
     "data": {
      "text/plain": [
       "REGENCY CAKESTAND 3 TIER              2012\n",
       "WHITE HANGING HEART T-LIGHT HOLDER    1993\n",
       "JUMBO BAG RED RETROSPOT               1632\n",
       "ASSORTED COLOUR BIRD ORNAMENT         1387\n",
       "PARTY BUNTING                         1359\n",
       "LUNCH BAG RED RETROSPOT               1301\n",
       "SET OF 3 CAKE TINS PANTRY DESIGN      1183\n",
       "LUNCH BAG BLACK SKULL                 1066\n",
       "LUNCH BAG SUKI DESIGN                 1062\n",
       "PACK OF 72 RETROSPOT CAKE CASES       1043\n",
       "Name: Description, dtype: int64"
      ]
     },
     "execution_count": 71,
     "metadata": {},
     "output_type": "execute_result"
    }
   ],
   "source": [
    "# top 10 item sold - don't consider the quantity sold but the number of times sold to customers\n",
    "df.Description.value_counts().head(10)"
   ]
  },
  {
   "cell_type": "markdown",
   "metadata": {},
   "source": [
    "## Possible Improvements\n",
    "1. The dataset contains mainly the UK region transactions. However, for the convenience of the analysis, we only consider the user purchase patterns regardless of the region. Therefore, if we have more data, region data can be considered in the model (or have different models for different regions).\n",
    "2. We can have a train-test split based on time series or hide some of the purchases for each customer to evaluate the model performance or accuracy.\n",
    "3. Other techniques like the ensemble method, sequence-to-sequence, or natural language processing can help decode the `Description` column. However, we need to model complexity and computational cost to perform real-time recommendations.  "
   ]
  }
 ],
 "metadata": {
  "kernelspec": {
   "display_name": "Python 3",
   "language": "python",
   "name": "python3"
  },
  "language_info": {
   "codemirror_mode": {
    "name": "ipython",
    "version": 3
   },
   "file_extension": ".py",
   "mimetype": "text/x-python",
   "name": "python",
   "nbconvert_exporter": "python",
   "pygments_lexer": "ipython3",
   "version": "3.6.8"
  }
 },
 "nbformat": 4,
 "nbformat_minor": 4
}
